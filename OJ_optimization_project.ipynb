{
 "cells": [
  {
   "cell_type": "markdown",
   "metadata": {},
   "source": [
    "Loading the dataset"
   ]
  },
  {
   "cell_type": "code",
   "execution_count": 3,
   "metadata": {},
   "outputs": [
    {
     "data": {
      "text/html": [
       "<div>\n",
       "<style scoped>\n",
       "    .dataframe tbody tr th:only-of-type {\n",
       "        vertical-align: middle;\n",
       "    }\n",
       "\n",
       "    .dataframe tbody tr th {\n",
       "        vertical-align: top;\n",
       "    }\n",
       "\n",
       "    .dataframe thead th {\n",
       "        text-align: right;\n",
       "    }\n",
       "</style>\n",
       "<table border=\"1\" class=\"dataframe\">\n",
       "  <thead>\n",
       "    <tr style=\"text-align: right;\">\n",
       "      <th></th>\n",
       "      <th>week</th>\n",
       "      <th>sales1</th>\n",
       "      <th>sales2</th>\n",
       "      <th>sales3</th>\n",
       "      <th>sales4</th>\n",
       "      <th>sales5</th>\n",
       "      <th>price1</th>\n",
       "      <th>price2</th>\n",
       "      <th>price3</th>\n",
       "      <th>price4</th>\n",
       "      <th>...</th>\n",
       "      <th>feat1</th>\n",
       "      <th>feat2</th>\n",
       "      <th>feat3</th>\n",
       "      <th>feat4</th>\n",
       "      <th>feat5</th>\n",
       "      <th>grmar1</th>\n",
       "      <th>grmar2</th>\n",
       "      <th>grmar3</th>\n",
       "      <th>grmar4</th>\n",
       "      <th>grmar5</th>\n",
       "    </tr>\n",
       "  </thead>\n",
       "  <tbody>\n",
       "    <tr>\n",
       "      <th>0</th>\n",
       "      <td>40</td>\n",
       "      <td>6528</td>\n",
       "      <td>8448</td>\n",
       "      <td>47040</td>\n",
       "      <td>4224</td>\n",
       "      <td>2432</td>\n",
       "      <td>0.057188</td>\n",
       "      <td>0.060312</td>\n",
       "      <td>0.029531</td>\n",
       "      <td>0.046719</td>\n",
       "      <td>...</td>\n",
       "      <td>0.0</td>\n",
       "      <td>0.0</td>\n",
       "      <td>1.0</td>\n",
       "      <td>0.0</td>\n",
       "      <td>1</td>\n",
       "      <td>0.344357</td>\n",
       "      <td>0.295700</td>\n",
       "      <td>0.107935</td>\n",
       "      <td>0.307700</td>\n",
       "      <td>0.0101</td>\n",
       "    </tr>\n",
       "    <tr>\n",
       "      <th>1</th>\n",
       "      <td>43</td>\n",
       "      <td>6016</td>\n",
       "      <td>8352</td>\n",
       "      <td>3008</td>\n",
       "      <td>5696</td>\n",
       "      <td>2112</td>\n",
       "      <td>0.057188</td>\n",
       "      <td>0.060312</td>\n",
       "      <td>0.044375</td>\n",
       "      <td>0.046719</td>\n",
       "      <td>...</td>\n",
       "      <td>0.0</td>\n",
       "      <td>0.0</td>\n",
       "      <td>1.0</td>\n",
       "      <td>0.0</td>\n",
       "      <td>0</td>\n",
       "      <td>0.342101</td>\n",
       "      <td>0.295700</td>\n",
       "      <td>0.416802</td>\n",
       "      <td>0.365920</td>\n",
       "      <td>0.4281</td>\n",
       "    </tr>\n",
       "    <tr>\n",
       "      <th>2</th>\n",
       "      <td>44</td>\n",
       "      <td>6272</td>\n",
       "      <td>7776</td>\n",
       "      <td>2816</td>\n",
       "      <td>36160</td>\n",
       "      <td>896</td>\n",
       "      <td>0.057188</td>\n",
       "      <td>0.060312</td>\n",
       "      <td>0.044375</td>\n",
       "      <td>0.040469</td>\n",
       "      <td>...</td>\n",
       "      <td>0.0</td>\n",
       "      <td>0.0</td>\n",
       "      <td>0.0</td>\n",
       "      <td>1.0</td>\n",
       "      <td>0</td>\n",
       "      <td>0.319928</td>\n",
       "      <td>0.295700</td>\n",
       "      <td>0.372591</td>\n",
       "      <td>0.334818</td>\n",
       "      <td>0.4281</td>\n",
       "    </tr>\n",
       "    <tr>\n",
       "      <th>3</th>\n",
       "      <td>45</td>\n",
       "      <td>6848</td>\n",
       "      <td>7968</td>\n",
       "      <td>28352</td>\n",
       "      <td>3200</td>\n",
       "      <td>1152</td>\n",
       "      <td>0.057188</td>\n",
       "      <td>0.060312</td>\n",
       "      <td>0.037344</td>\n",
       "      <td>0.046719</td>\n",
       "      <td>...</td>\n",
       "      <td>0.0</td>\n",
       "      <td>0.0</td>\n",
       "      <td>0.0</td>\n",
       "      <td>0.0</td>\n",
       "      <td>0</td>\n",
       "      <td>0.264671</td>\n",
       "      <td>0.295700</td>\n",
       "      <td>0.257612</td>\n",
       "      <td>0.404416</td>\n",
       "      <td>0.3687</td>\n",
       "    </tr>\n",
       "    <tr>\n",
       "      <th>4</th>\n",
       "      <td>46</td>\n",
       "      <td>7424</td>\n",
       "      <td>7296</td>\n",
       "      <td>3712</td>\n",
       "      <td>11904</td>\n",
       "      <td>3072</td>\n",
       "      <td>0.057188</td>\n",
       "      <td>0.060312</td>\n",
       "      <td>0.044375</td>\n",
       "      <td>0.046719</td>\n",
       "      <td>...</td>\n",
       "      <td>0.0</td>\n",
       "      <td>0.0</td>\n",
       "      <td>0.0</td>\n",
       "      <td>0.0</td>\n",
       "      <td>0</td>\n",
       "      <td>0.260983</td>\n",
       "      <td>0.295700</td>\n",
       "      <td>0.363762</td>\n",
       "      <td>0.412581</td>\n",
       "      <td>0.3747</td>\n",
       "    </tr>\n",
       "    <tr>\n",
       "      <th>5</th>\n",
       "      <td>47</td>\n",
       "      <td>6848</td>\n",
       "      <td>7200</td>\n",
       "      <td>11136</td>\n",
       "      <td>21376</td>\n",
       "      <td>4672</td>\n",
       "      <td>0.057188</td>\n",
       "      <td>0.060312</td>\n",
       "      <td>0.044375</td>\n",
       "      <td>0.037344</td>\n",
       "      <td>...</td>\n",
       "      <td>0.0</td>\n",
       "      <td>0.0</td>\n",
       "      <td>0.0</td>\n",
       "      <td>1.0</td>\n",
       "      <td>1</td>\n",
       "      <td>0.259800</td>\n",
       "      <td>0.295700</td>\n",
       "      <td>0.365395</td>\n",
       "      <td>0.207690</td>\n",
       "      <td>0.2550</td>\n",
       "    </tr>\n",
       "    <tr>\n",
       "      <th>6</th>\n",
       "      <td>48</td>\n",
       "      <td>7488</td>\n",
       "      <td>7968</td>\n",
       "      <td>35904</td>\n",
       "      <td>3648</td>\n",
       "      <td>1920</td>\n",
       "      <td>0.057188</td>\n",
       "      <td>0.060312</td>\n",
       "      <td>0.037344</td>\n",
       "      <td>0.046719</td>\n",
       "      <td>...</td>\n",
       "      <td>0.0</td>\n",
       "      <td>0.0</td>\n",
       "      <td>1.0</td>\n",
       "      <td>0.0</td>\n",
       "      <td>0</td>\n",
       "      <td>0.259300</td>\n",
       "      <td>0.295700</td>\n",
       "      <td>0.221557</td>\n",
       "      <td>0.344168</td>\n",
       "      <td>0.2569</td>\n",
       "    </tr>\n",
       "    <tr>\n",
       "      <th>7</th>\n",
       "      <td>49</td>\n",
       "      <td>6336</td>\n",
       "      <td>7200</td>\n",
       "      <td>2368</td>\n",
       "      <td>46848</td>\n",
       "      <td>896</td>\n",
       "      <td>0.057188</td>\n",
       "      <td>0.060312</td>\n",
       "      <td>0.037344</td>\n",
       "      <td>0.031094</td>\n",
       "      <td>...</td>\n",
       "      <td>0.0</td>\n",
       "      <td>0.0</td>\n",
       "      <td>0.0</td>\n",
       "      <td>1.0</td>\n",
       "      <td>0</td>\n",
       "      <td>0.259000</td>\n",
       "      <td>0.338580</td>\n",
       "      <td>0.246486</td>\n",
       "      <td>0.013690</td>\n",
       "      <td>0.2478</td>\n",
       "    </tr>\n",
       "    <tr>\n",
       "      <th>8</th>\n",
       "      <td>50</td>\n",
       "      <td>6208</td>\n",
       "      <td>11712</td>\n",
       "      <td>45824</td>\n",
       "      <td>3328</td>\n",
       "      <td>1152</td>\n",
       "      <td>0.057188</td>\n",
       "      <td>0.060312</td>\n",
       "      <td>0.031094</td>\n",
       "      <td>0.046719</td>\n",
       "      <td>...</td>\n",
       "      <td>0.0</td>\n",
       "      <td>1.0</td>\n",
       "      <td>1.0</td>\n",
       "      <td>0.0</td>\n",
       "      <td>0</td>\n",
       "      <td>0.259000</td>\n",
       "      <td>0.382092</td>\n",
       "      <td>0.151579</td>\n",
       "      <td>0.351496</td>\n",
       "      <td>0.2512</td>\n",
       "    </tr>\n",
       "    <tr>\n",
       "      <th>9</th>\n",
       "      <td>51</td>\n",
       "      <td>6400</td>\n",
       "      <td>10368</td>\n",
       "      <td>3008</td>\n",
       "      <td>4096</td>\n",
       "      <td>26432</td>\n",
       "      <td>0.057188</td>\n",
       "      <td>0.060312</td>\n",
       "      <td>0.044375</td>\n",
       "      <td>0.046719</td>\n",
       "      <td>...</td>\n",
       "      <td>0.0</td>\n",
       "      <td>0.0</td>\n",
       "      <td>0.0</td>\n",
       "      <td>0.0</td>\n",
       "      <td>1</td>\n",
       "      <td>0.259000</td>\n",
       "      <td>0.373050</td>\n",
       "      <td>0.395757</td>\n",
       "      <td>0.352683</td>\n",
       "      <td>0.2000</td>\n",
       "    </tr>\n",
       "  </tbody>\n",
       "</table>\n",
       "<p>10 rows × 26 columns</p>\n",
       "</div>"
      ],
      "text/plain": [
       "   week  sales1  sales2  sales3  sales4  sales5    price1    price2    price3  \\\n",
       "0    40    6528    8448   47040    4224    2432  0.057188  0.060312  0.029531   \n",
       "1    43    6016    8352    3008    5696    2112  0.057188  0.060312  0.044375   \n",
       "2    44    6272    7776    2816   36160     896  0.057188  0.060312  0.044375   \n",
       "3    45    6848    7968   28352    3200    1152  0.057188  0.060312  0.037344   \n",
       "4    46    7424    7296    3712   11904    3072  0.057188  0.060312  0.044375   \n",
       "5    47    6848    7200   11136   21376    4672  0.057188  0.060312  0.044375   \n",
       "6    48    7488    7968   35904    3648    1920  0.057188  0.060312  0.037344   \n",
       "7    49    6336    7200    2368   46848     896  0.057188  0.060312  0.037344   \n",
       "8    50    6208   11712   45824    3328    1152  0.057188  0.060312  0.031094   \n",
       "9    51    6400   10368    3008    4096   26432  0.057188  0.060312  0.044375   \n",
       "\n",
       "     price4  ...  feat1  feat2  feat3  feat4  feat5    grmar1    grmar2  \\\n",
       "0  0.046719  ...    0.0    0.0    1.0    0.0      1  0.344357  0.295700   \n",
       "1  0.046719  ...    0.0    0.0    1.0    0.0      0  0.342101  0.295700   \n",
       "2  0.040469  ...    0.0    0.0    0.0    1.0      0  0.319928  0.295700   \n",
       "3  0.046719  ...    0.0    0.0    0.0    0.0      0  0.264671  0.295700   \n",
       "4  0.046719  ...    0.0    0.0    0.0    0.0      0  0.260983  0.295700   \n",
       "5  0.037344  ...    0.0    0.0    0.0    1.0      1  0.259800  0.295700   \n",
       "6  0.046719  ...    0.0    0.0    1.0    0.0      0  0.259300  0.295700   \n",
       "7  0.031094  ...    0.0    0.0    0.0    1.0      0  0.259000  0.338580   \n",
       "8  0.046719  ...    0.0    1.0    1.0    0.0      0  0.259000  0.382092   \n",
       "9  0.046719  ...    0.0    0.0    0.0    0.0      1  0.259000  0.373050   \n",
       "\n",
       "     grmar3    grmar4  grmar5  \n",
       "0  0.107935  0.307700  0.0101  \n",
       "1  0.416802  0.365920  0.4281  \n",
       "2  0.372591  0.334818  0.4281  \n",
       "3  0.257612  0.404416  0.3687  \n",
       "4  0.363762  0.412581  0.3747  \n",
       "5  0.365395  0.207690  0.2550  \n",
       "6  0.221557  0.344168  0.2569  \n",
       "7  0.246486  0.013690  0.2478  \n",
       "8  0.151579  0.351496  0.2512  \n",
       "9  0.395757  0.352683  0.2000  \n",
       "\n",
       "[10 rows x 26 columns]"
      ]
     },
     "execution_count": 3,
     "metadata": {},
     "output_type": "execute_result"
    }
   ],
   "source": [
    "#importing libraries\n",
    "import pandas as  pd \n",
    "import numpy as np\n",
    "import seaborn as sns\n",
    "import matplotlib.pyplot as plt\n",
    "import statsmodels.formula.api as smf # regression modeling\n",
    "from sklearn.linear_model import LinearRegression\n",
    "\n",
    "#Reading the excel\n",
    "file='OJ_data.xlsx'\n",
    "data = pd.read_excel(io=file,header=0,sheet_name='Sheet1')\n",
    "data.head(10)"
   ]
  },
  {
   "cell_type": "markdown",
   "metadata": {},
   "source": [
    "Exploration"
   ]
  },
  {
   "cell_type": "code",
   "execution_count": 4,
   "metadata": {},
   "outputs": [
    {
     "name": "stdout",
     "output_type": "stream",
     "text": [
      "<class 'pandas.core.frame.DataFrame'>\n",
      "RangeIndex: 116 entries, 0 to 115\n",
      "Data columns (total 26 columns):\n",
      " #   Column  Non-Null Count  Dtype  \n",
      "---  ------  --------------  -----  \n",
      " 0   week    116 non-null    int64  \n",
      " 1   sales1  116 non-null    int64  \n",
      " 2   sales2  116 non-null    int64  \n",
      " 3   sales3  116 non-null    int64  \n",
      " 4   sales4  116 non-null    int64  \n",
      " 5   sales5  116 non-null    int64  \n",
      " 6   price1  116 non-null    float64\n",
      " 7   price2  116 non-null    float64\n",
      " 8   price3  116 non-null    float64\n",
      " 9   price4  116 non-null    float64\n",
      " 10  price5  116 non-null    float64\n",
      " 11  disp1   116 non-null    float64\n",
      " 12  disp2   116 non-null    float64\n",
      " 13  disp3   116 non-null    float64\n",
      " 14  disp4   116 non-null    float64\n",
      " 15  disp5   116 non-null    int64  \n",
      " 16  feat1   116 non-null    float64\n",
      " 17  feat2   116 non-null    float64\n",
      " 18  feat3   116 non-null    float64\n",
      " 19  feat4   116 non-null    float64\n",
      " 20  feat5   116 non-null    int64  \n",
      " 21  grmar1  116 non-null    float64\n",
      " 22  grmar2  116 non-null    float64\n",
      " 23  grmar3  116 non-null    float64\n",
      " 24  grmar4  116 non-null    float64\n",
      " 25  grmar5  116 non-null    float64\n",
      "dtypes: float64(18), int64(8)\n",
      "memory usage: 23.7 KB\n"
     ]
    }
   ],
   "source": [
    "data.info()"
   ]
  },
  {
   "cell_type": "code",
   "execution_count": 5,
   "metadata": {},
   "outputs": [
    {
     "data": {
      "text/html": [
       "<div>\n",
       "<style scoped>\n",
       "    .dataframe tbody tr th:only-of-type {\n",
       "        vertical-align: middle;\n",
       "    }\n",
       "\n",
       "    .dataframe tbody tr th {\n",
       "        vertical-align: top;\n",
       "    }\n",
       "\n",
       "    .dataframe thead th {\n",
       "        text-align: right;\n",
       "    }\n",
       "</style>\n",
       "<table border=\"1\" class=\"dataframe\">\n",
       "  <thead>\n",
       "    <tr style=\"text-align: right;\">\n",
       "      <th></th>\n",
       "      <th>week</th>\n",
       "      <th>sales1</th>\n",
       "      <th>sales2</th>\n",
       "      <th>sales3</th>\n",
       "      <th>sales4</th>\n",
       "      <th>sales5</th>\n",
       "      <th>price1</th>\n",
       "      <th>price2</th>\n",
       "      <th>price3</th>\n",
       "      <th>price4</th>\n",
       "      <th>...</th>\n",
       "      <th>feat1</th>\n",
       "      <th>feat2</th>\n",
       "      <th>feat3</th>\n",
       "      <th>feat4</th>\n",
       "      <th>feat5</th>\n",
       "      <th>grmar1</th>\n",
       "      <th>grmar2</th>\n",
       "      <th>grmar3</th>\n",
       "      <th>grmar4</th>\n",
       "      <th>grmar5</th>\n",
       "    </tr>\n",
       "  </thead>\n",
       "  <tbody>\n",
       "    <tr>\n",
       "      <th>count</th>\n",
       "      <td>116.000000</td>\n",
       "      <td>116.000000</td>\n",
       "      <td>116.000000</td>\n",
       "      <td>116.000000</td>\n",
       "      <td>116.000000</td>\n",
       "      <td>116.000000</td>\n",
       "      <td>116.000000</td>\n",
       "      <td>116.000000</td>\n",
       "      <td>116.000000</td>\n",
       "      <td>116.000000</td>\n",
       "      <td>...</td>\n",
       "      <td>116.000000</td>\n",
       "      <td>116.000000</td>\n",
       "      <td>116.000000</td>\n",
       "      <td>116.000000</td>\n",
       "      <td>116.000000</td>\n",
       "      <td>116.000000</td>\n",
       "      <td>116.000000</td>\n",
       "      <td>116.000000</td>\n",
       "      <td>116.000000</td>\n",
       "      <td>116.000000</td>\n",
       "    </tr>\n",
       "    <tr>\n",
       "      <th>mean</th>\n",
       "      <td>101.844828</td>\n",
       "      <td>18879.448276</td>\n",
       "      <td>11763.310345</td>\n",
       "      <td>14898.206897</td>\n",
       "      <td>18481.103448</td>\n",
       "      <td>15358.896552</td>\n",
       "      <td>0.045321</td>\n",
       "      <td>0.050033</td>\n",
       "      <td>0.035966</td>\n",
       "      <td>0.035440</td>\n",
       "      <td>...</td>\n",
       "      <td>0.165062</td>\n",
       "      <td>0.129114</td>\n",
       "      <td>0.332286</td>\n",
       "      <td>0.273003</td>\n",
       "      <td>0.250000</td>\n",
       "      <td>0.279329</td>\n",
       "      <td>0.285577</td>\n",
       "      <td>0.294565</td>\n",
       "      <td>0.253375</td>\n",
       "      <td>0.292908</td>\n",
       "    </tr>\n",
       "    <tr>\n",
       "      <th>std</th>\n",
       "      <td>34.543383</td>\n",
       "      <td>20103.609961</td>\n",
       "      <td>4416.207439</td>\n",
       "      <td>24515.783919</td>\n",
       "      <td>27366.165934</td>\n",
       "      <td>18560.147732</td>\n",
       "      <td>0.008683</td>\n",
       "      <td>0.005744</td>\n",
       "      <td>0.006302</td>\n",
       "      <td>0.006101</td>\n",
       "      <td>...</td>\n",
       "      <td>0.367102</td>\n",
       "      <td>0.336494</td>\n",
       "      <td>0.465997</td>\n",
       "      <td>0.442945</td>\n",
       "      <td>0.434891</td>\n",
       "      <td>0.122663</td>\n",
       "      <td>0.062690</td>\n",
       "      <td>0.113905</td>\n",
       "      <td>0.110108</td>\n",
       "      <td>0.141708</td>\n",
       "    </tr>\n",
       "    <tr>\n",
       "      <th>min</th>\n",
       "      <td>40.000000</td>\n",
       "      <td>4608.000000</td>\n",
       "      <td>6048.000000</td>\n",
       "      <td>704.000000</td>\n",
       "      <td>3072.000000</td>\n",
       "      <td>896.000000</td>\n",
       "      <td>0.026406</td>\n",
       "      <td>0.037083</td>\n",
       "      <td>0.023281</td>\n",
       "      <td>0.020156</td>\n",
       "      <td>...</td>\n",
       "      <td>0.000000</td>\n",
       "      <td>0.000000</td>\n",
       "      <td>0.000000</td>\n",
       "      <td>0.000000</td>\n",
       "      <td>0.000000</td>\n",
       "      <td>0.015661</td>\n",
       "      <td>0.048026</td>\n",
       "      <td>0.000790</td>\n",
       "      <td>0.005774</td>\n",
       "      <td>0.007700</td>\n",
       "    </tr>\n",
       "    <tr>\n",
       "      <th>25%</th>\n",
       "      <td>73.750000</td>\n",
       "      <td>7600.000000</td>\n",
       "      <td>8736.000000</td>\n",
       "      <td>2096.000000</td>\n",
       "      <td>5184.000000</td>\n",
       "      <td>3504.000000</td>\n",
       "      <td>0.038906</td>\n",
       "      <td>0.047813</td>\n",
       "      <td>0.031094</td>\n",
       "      <td>0.031094</td>\n",
       "      <td>...</td>\n",
       "      <td>0.000000</td>\n",
       "      <td>0.000000</td>\n",
       "      <td>0.000000</td>\n",
       "      <td>0.000000</td>\n",
       "      <td>0.000000</td>\n",
       "      <td>0.221546</td>\n",
       "      <td>0.274808</td>\n",
       "      <td>0.221347</td>\n",
       "      <td>0.173191</td>\n",
       "      <td>0.206900</td>\n",
       "    </tr>\n",
       "    <tr>\n",
       "      <th>50%</th>\n",
       "      <td>102.500000</td>\n",
       "      <td>10880.000000</td>\n",
       "      <td>10704.000000</td>\n",
       "      <td>3648.000000</td>\n",
       "      <td>7872.000000</td>\n",
       "      <td>7264.000000</td>\n",
       "      <td>0.046719</td>\n",
       "      <td>0.049479</td>\n",
       "      <td>0.036719</td>\n",
       "      <td>0.035312</td>\n",
       "      <td>...</td>\n",
       "      <td>0.000000</td>\n",
       "      <td>0.000000</td>\n",
       "      <td>0.000000</td>\n",
       "      <td>0.000000</td>\n",
       "      <td>0.000000</td>\n",
       "      <td>0.290407</td>\n",
       "      <td>0.296200</td>\n",
       "      <td>0.330478</td>\n",
       "      <td>0.261976</td>\n",
       "      <td>0.292200</td>\n",
       "    </tr>\n",
       "    <tr>\n",
       "      <th>75%</th>\n",
       "      <td>131.250000</td>\n",
       "      <td>17040.000000</td>\n",
       "      <td>12984.000000</td>\n",
       "      <td>13088.000000</td>\n",
       "      <td>19088.000000</td>\n",
       "      <td>18208.000000</td>\n",
       "      <td>0.052969</td>\n",
       "      <td>0.052917</td>\n",
       "      <td>0.040321</td>\n",
       "      <td>0.039072</td>\n",
       "      <td>...</td>\n",
       "      <td>0.000000</td>\n",
       "      <td>0.000000</td>\n",
       "      <td>1.000000</td>\n",
       "      <td>1.000000</td>\n",
       "      <td>0.250000</td>\n",
       "      <td>0.367215</td>\n",
       "      <td>0.315421</td>\n",
       "      <td>0.377743</td>\n",
       "      <td>0.334891</td>\n",
       "      <td>0.408800</td>\n",
       "    </tr>\n",
       "    <tr>\n",
       "      <th>max</th>\n",
       "      <td>160.000000</td>\n",
       "      <td>98624.000000</td>\n",
       "      <td>29952.000000</td>\n",
       "      <td>171264.000000</td>\n",
       "      <td>192128.000000</td>\n",
       "      <td>83008.000000</td>\n",
       "      <td>0.057188</td>\n",
       "      <td>0.060312</td>\n",
       "      <td>0.045156</td>\n",
       "      <td>0.046719</td>\n",
       "      <td>...</td>\n",
       "      <td>1.000000</td>\n",
       "      <td>1.000000</td>\n",
       "      <td>1.000000</td>\n",
       "      <td>1.000000</td>\n",
       "      <td>1.000000</td>\n",
       "      <td>0.486159</td>\n",
       "      <td>0.418158</td>\n",
       "      <td>0.491373</td>\n",
       "      <td>0.449935</td>\n",
       "      <td>0.536500</td>\n",
       "    </tr>\n",
       "  </tbody>\n",
       "</table>\n",
       "<p>8 rows × 26 columns</p>\n",
       "</div>"
      ],
      "text/plain": [
       "             week        sales1        sales2         sales3         sales4  \\\n",
       "count  116.000000    116.000000    116.000000     116.000000     116.000000   \n",
       "mean   101.844828  18879.448276  11763.310345   14898.206897   18481.103448   \n",
       "std     34.543383  20103.609961   4416.207439   24515.783919   27366.165934   \n",
       "min     40.000000   4608.000000   6048.000000     704.000000    3072.000000   \n",
       "25%     73.750000   7600.000000   8736.000000    2096.000000    5184.000000   \n",
       "50%    102.500000  10880.000000  10704.000000    3648.000000    7872.000000   \n",
       "75%    131.250000  17040.000000  12984.000000   13088.000000   19088.000000   \n",
       "max    160.000000  98624.000000  29952.000000  171264.000000  192128.000000   \n",
       "\n",
       "             sales5      price1      price2      price3      price4  ...  \\\n",
       "count    116.000000  116.000000  116.000000  116.000000  116.000000  ...   \n",
       "mean   15358.896552    0.045321    0.050033    0.035966    0.035440  ...   \n",
       "std    18560.147732    0.008683    0.005744    0.006302    0.006101  ...   \n",
       "min      896.000000    0.026406    0.037083    0.023281    0.020156  ...   \n",
       "25%     3504.000000    0.038906    0.047813    0.031094    0.031094  ...   \n",
       "50%     7264.000000    0.046719    0.049479    0.036719    0.035312  ...   \n",
       "75%    18208.000000    0.052969    0.052917    0.040321    0.039072  ...   \n",
       "max    83008.000000    0.057188    0.060312    0.045156    0.046719  ...   \n",
       "\n",
       "            feat1       feat2       feat3       feat4       feat5      grmar1  \\\n",
       "count  116.000000  116.000000  116.000000  116.000000  116.000000  116.000000   \n",
       "mean     0.165062    0.129114    0.332286    0.273003    0.250000    0.279329   \n",
       "std      0.367102    0.336494    0.465997    0.442945    0.434891    0.122663   \n",
       "min      0.000000    0.000000    0.000000    0.000000    0.000000    0.015661   \n",
       "25%      0.000000    0.000000    0.000000    0.000000    0.000000    0.221546   \n",
       "50%      0.000000    0.000000    0.000000    0.000000    0.000000    0.290407   \n",
       "75%      0.000000    0.000000    1.000000    1.000000    0.250000    0.367215   \n",
       "max      1.000000    1.000000    1.000000    1.000000    1.000000    0.486159   \n",
       "\n",
       "           grmar2      grmar3      grmar4      grmar5  \n",
       "count  116.000000  116.000000  116.000000  116.000000  \n",
       "mean     0.285577    0.294565    0.253375    0.292908  \n",
       "std      0.062690    0.113905    0.110108    0.141708  \n",
       "min      0.048026    0.000790    0.005774    0.007700  \n",
       "25%      0.274808    0.221347    0.173191    0.206900  \n",
       "50%      0.296200    0.330478    0.261976    0.292200  \n",
       "75%      0.315421    0.377743    0.334891    0.408800  \n",
       "max      0.418158    0.491373    0.449935    0.536500  \n",
       "\n",
       "[8 rows x 26 columns]"
      ]
     },
     "execution_count": 5,
     "metadata": {},
     "output_type": "execute_result"
    }
   ],
   "source": [
    "data.describe()"
   ]
  },
  {
   "cell_type": "code",
   "execution_count": 6,
   "metadata": {},
   "outputs": [
    {
     "data": {
      "text/html": [
       "<div>\n",
       "<style scoped>\n",
       "    .dataframe tbody tr th:only-of-type {\n",
       "        vertical-align: middle;\n",
       "    }\n",
       "\n",
       "    .dataframe tbody tr th {\n",
       "        vertical-align: top;\n",
       "    }\n",
       "\n",
       "    .dataframe thead th {\n",
       "        text-align: right;\n",
       "    }\n",
       "</style>\n",
       "<table border=\"1\" class=\"dataframe\">\n",
       "  <thead>\n",
       "    <tr style=\"text-align: right;\">\n",
       "      <th></th>\n",
       "      <th>week</th>\n",
       "      <th>sales1</th>\n",
       "      <th>price1</th>\n",
       "      <th>disp1</th>\n",
       "      <th>feat1</th>\n",
       "      <th>grmar1</th>\n",
       "    </tr>\n",
       "  </thead>\n",
       "  <tbody>\n",
       "    <tr>\n",
       "      <th>0</th>\n",
       "      <td>40</td>\n",
       "      <td>6528</td>\n",
       "      <td>0.057188</td>\n",
       "      <td>0.284314</td>\n",
       "      <td>0.0</td>\n",
       "      <td>0.344357</td>\n",
       "    </tr>\n",
       "    <tr>\n",
       "      <th>1</th>\n",
       "      <td>43</td>\n",
       "      <td>6016</td>\n",
       "      <td>0.057188</td>\n",
       "      <td>0.000000</td>\n",
       "      <td>0.0</td>\n",
       "      <td>0.342101</td>\n",
       "    </tr>\n",
       "    <tr>\n",
       "      <th>2</th>\n",
       "      <td>44</td>\n",
       "      <td>6272</td>\n",
       "      <td>0.057188</td>\n",
       "      <td>0.000000</td>\n",
       "      <td>0.0</td>\n",
       "      <td>0.319928</td>\n",
       "    </tr>\n",
       "    <tr>\n",
       "      <th>3</th>\n",
       "      <td>45</td>\n",
       "      <td>6848</td>\n",
       "      <td>0.057188</td>\n",
       "      <td>0.000000</td>\n",
       "      <td>0.0</td>\n",
       "      <td>0.264671</td>\n",
       "    </tr>\n",
       "    <tr>\n",
       "      <th>4</th>\n",
       "      <td>46</td>\n",
       "      <td>7424</td>\n",
       "      <td>0.057188</td>\n",
       "      <td>0.000000</td>\n",
       "      <td>0.0</td>\n",
       "      <td>0.260983</td>\n",
       "    </tr>\n",
       "  </tbody>\n",
       "</table>\n",
       "</div>"
      ],
      "text/plain": [
       "   week  sales1    price1     disp1  feat1    grmar1\n",
       "0    40    6528  0.057188  0.284314    0.0  0.344357\n",
       "1    43    6016  0.057188  0.000000    0.0  0.342101\n",
       "2    44    6272  0.057188  0.000000    0.0  0.319928\n",
       "3    45    6848  0.057188  0.000000    0.0  0.264671\n",
       "4    46    7424  0.057188  0.000000    0.0  0.260983"
      ]
     },
     "execution_count": 6,
     "metadata": {},
     "output_type": "execute_result"
    }
   ],
   "source": [
    "#Looking at each product individually\n",
    "\n",
    "product1= data.loc[:,['week','sales1','price1','disp1','feat1','grmar1']]\n",
    "product1.head(5)"
   ]
  },
  {
   "cell_type": "code",
   "execution_count": 7,
   "metadata": {},
   "outputs": [
    {
     "data": {
      "text/html": [
       "<div>\n",
       "<style scoped>\n",
       "    .dataframe tbody tr th:only-of-type {\n",
       "        vertical-align: middle;\n",
       "    }\n",
       "\n",
       "    .dataframe tbody tr th {\n",
       "        vertical-align: top;\n",
       "    }\n",
       "\n",
       "    .dataframe thead th {\n",
       "        text-align: right;\n",
       "    }\n",
       "</style>\n",
       "<table border=\"1\" class=\"dataframe\">\n",
       "  <thead>\n",
       "    <tr style=\"text-align: right;\">\n",
       "      <th></th>\n",
       "      <th>week</th>\n",
       "      <th>sales2</th>\n",
       "      <th>price2</th>\n",
       "      <th>disp2</th>\n",
       "      <th>feat2</th>\n",
       "      <th>grmar2</th>\n",
       "    </tr>\n",
       "  </thead>\n",
       "  <tbody>\n",
       "    <tr>\n",
       "      <th>0</th>\n",
       "      <td>40</td>\n",
       "      <td>8448</td>\n",
       "      <td>0.060312</td>\n",
       "      <td>0.0</td>\n",
       "      <td>0.0</td>\n",
       "      <td>0.2957</td>\n",
       "    </tr>\n",
       "    <tr>\n",
       "      <th>1</th>\n",
       "      <td>43</td>\n",
       "      <td>8352</td>\n",
       "      <td>0.060312</td>\n",
       "      <td>0.0</td>\n",
       "      <td>0.0</td>\n",
       "      <td>0.2957</td>\n",
       "    </tr>\n",
       "    <tr>\n",
       "      <th>2</th>\n",
       "      <td>44</td>\n",
       "      <td>7776</td>\n",
       "      <td>0.060312</td>\n",
       "      <td>0.0</td>\n",
       "      <td>0.0</td>\n",
       "      <td>0.2957</td>\n",
       "    </tr>\n",
       "    <tr>\n",
       "      <th>3</th>\n",
       "      <td>45</td>\n",
       "      <td>7968</td>\n",
       "      <td>0.060312</td>\n",
       "      <td>0.0</td>\n",
       "      <td>0.0</td>\n",
       "      <td>0.2957</td>\n",
       "    </tr>\n",
       "    <tr>\n",
       "      <th>4</th>\n",
       "      <td>46</td>\n",
       "      <td>7296</td>\n",
       "      <td>0.060312</td>\n",
       "      <td>0.0</td>\n",
       "      <td>0.0</td>\n",
       "      <td>0.2957</td>\n",
       "    </tr>\n",
       "  </tbody>\n",
       "</table>\n",
       "</div>"
      ],
      "text/plain": [
       "   week  sales2    price2  disp2  feat2  grmar2\n",
       "0    40    8448  0.060312    0.0    0.0  0.2957\n",
       "1    43    8352  0.060312    0.0    0.0  0.2957\n",
       "2    44    7776  0.060312    0.0    0.0  0.2957\n",
       "3    45    7968  0.060312    0.0    0.0  0.2957\n",
       "4    46    7296  0.060312    0.0    0.0  0.2957"
      ]
     },
     "execution_count": 7,
     "metadata": {},
     "output_type": "execute_result"
    }
   ],
   "source": [
    "product2= data.loc[:,['week','sales2','price2','disp2','feat2','grmar2']]\n",
    "product2.head(5)"
   ]
  },
  {
   "cell_type": "code",
   "execution_count": 8,
   "metadata": {},
   "outputs": [
    {
     "data": {
      "text/html": [
       "<div>\n",
       "<style scoped>\n",
       "    .dataframe tbody tr th:only-of-type {\n",
       "        vertical-align: middle;\n",
       "    }\n",
       "\n",
       "    .dataframe tbody tr th {\n",
       "        vertical-align: top;\n",
       "    }\n",
       "\n",
       "    .dataframe thead th {\n",
       "        text-align: right;\n",
       "    }\n",
       "</style>\n",
       "<table border=\"1\" class=\"dataframe\">\n",
       "  <thead>\n",
       "    <tr style=\"text-align: right;\">\n",
       "      <th></th>\n",
       "      <th>week</th>\n",
       "      <th>sales3</th>\n",
       "      <th>price3</th>\n",
       "      <th>disp3</th>\n",
       "      <th>feat3</th>\n",
       "      <th>grmar3</th>\n",
       "    </tr>\n",
       "  </thead>\n",
       "  <tbody>\n",
       "    <tr>\n",
       "      <th>0</th>\n",
       "      <td>40</td>\n",
       "      <td>47040</td>\n",
       "      <td>0.029531</td>\n",
       "      <td>0.496599</td>\n",
       "      <td>1.0</td>\n",
       "      <td>0.107935</td>\n",
       "    </tr>\n",
       "    <tr>\n",
       "      <th>1</th>\n",
       "      <td>43</td>\n",
       "      <td>3008</td>\n",
       "      <td>0.044375</td>\n",
       "      <td>0.000000</td>\n",
       "      <td>1.0</td>\n",
       "      <td>0.416802</td>\n",
       "    </tr>\n",
       "    <tr>\n",
       "      <th>2</th>\n",
       "      <td>44</td>\n",
       "      <td>2816</td>\n",
       "      <td>0.044375</td>\n",
       "      <td>0.000000</td>\n",
       "      <td>0.0</td>\n",
       "      <td>0.372591</td>\n",
       "    </tr>\n",
       "    <tr>\n",
       "      <th>3</th>\n",
       "      <td>45</td>\n",
       "      <td>28352</td>\n",
       "      <td>0.037344</td>\n",
       "      <td>0.449210</td>\n",
       "      <td>0.0</td>\n",
       "      <td>0.257612</td>\n",
       "    </tr>\n",
       "    <tr>\n",
       "      <th>4</th>\n",
       "      <td>46</td>\n",
       "      <td>3712</td>\n",
       "      <td>0.044375</td>\n",
       "      <td>0.000000</td>\n",
       "      <td>0.0</td>\n",
       "      <td>0.363762</td>\n",
       "    </tr>\n",
       "  </tbody>\n",
       "</table>\n",
       "</div>"
      ],
      "text/plain": [
       "   week  sales3    price3     disp3  feat3    grmar3\n",
       "0    40   47040  0.029531  0.496599    1.0  0.107935\n",
       "1    43    3008  0.044375  0.000000    1.0  0.416802\n",
       "2    44    2816  0.044375  0.000000    0.0  0.372591\n",
       "3    45   28352  0.037344  0.449210    0.0  0.257612\n",
       "4    46    3712  0.044375  0.000000    0.0  0.363762"
      ]
     },
     "execution_count": 8,
     "metadata": {},
     "output_type": "execute_result"
    }
   ],
   "source": [
    "product3= data.loc[:,['week','sales3','price3','disp3','feat3','grmar3']]\n",
    "product3.head(5)"
   ]
  },
  {
   "cell_type": "code",
   "execution_count": 9,
   "metadata": {},
   "outputs": [
    {
     "data": {
      "text/html": [
       "<div>\n",
       "<style scoped>\n",
       "    .dataframe tbody tr th:only-of-type {\n",
       "        vertical-align: middle;\n",
       "    }\n",
       "\n",
       "    .dataframe tbody tr th {\n",
       "        vertical-align: top;\n",
       "    }\n",
       "\n",
       "    .dataframe thead th {\n",
       "        text-align: right;\n",
       "    }\n",
       "</style>\n",
       "<table border=\"1\" class=\"dataframe\">\n",
       "  <thead>\n",
       "    <tr style=\"text-align: right;\">\n",
       "      <th></th>\n",
       "      <th>week</th>\n",
       "      <th>sales4</th>\n",
       "      <th>price4</th>\n",
       "      <th>disp4</th>\n",
       "      <th>feat4</th>\n",
       "      <th>grmar4</th>\n",
       "    </tr>\n",
       "  </thead>\n",
       "  <tbody>\n",
       "    <tr>\n",
       "      <th>0</th>\n",
       "      <td>40</td>\n",
       "      <td>4224</td>\n",
       "      <td>0.046719</td>\n",
       "      <td>0.0</td>\n",
       "      <td>0.0</td>\n",
       "      <td>0.307700</td>\n",
       "    </tr>\n",
       "    <tr>\n",
       "      <th>1</th>\n",
       "      <td>43</td>\n",
       "      <td>5696</td>\n",
       "      <td>0.046719</td>\n",
       "      <td>0.0</td>\n",
       "      <td>0.0</td>\n",
       "      <td>0.365920</td>\n",
       "    </tr>\n",
       "    <tr>\n",
       "      <th>2</th>\n",
       "      <td>44</td>\n",
       "      <td>36160</td>\n",
       "      <td>0.040469</td>\n",
       "      <td>0.0</td>\n",
       "      <td>1.0</td>\n",
       "      <td>0.334818</td>\n",
       "    </tr>\n",
       "    <tr>\n",
       "      <th>3</th>\n",
       "      <td>45</td>\n",
       "      <td>3200</td>\n",
       "      <td>0.046719</td>\n",
       "      <td>0.0</td>\n",
       "      <td>0.0</td>\n",
       "      <td>0.404416</td>\n",
       "    </tr>\n",
       "    <tr>\n",
       "      <th>4</th>\n",
       "      <td>46</td>\n",
       "      <td>11904</td>\n",
       "      <td>0.046719</td>\n",
       "      <td>0.0</td>\n",
       "      <td>0.0</td>\n",
       "      <td>0.412581</td>\n",
       "    </tr>\n",
       "  </tbody>\n",
       "</table>\n",
       "</div>"
      ],
      "text/plain": [
       "   week  sales4    price4  disp4  feat4    grmar4\n",
       "0    40    4224  0.046719    0.0    0.0  0.307700\n",
       "1    43    5696  0.046719    0.0    0.0  0.365920\n",
       "2    44   36160  0.040469    0.0    1.0  0.334818\n",
       "3    45    3200  0.046719    0.0    0.0  0.404416\n",
       "4    46   11904  0.046719    0.0    0.0  0.412581"
      ]
     },
     "execution_count": 9,
     "metadata": {},
     "output_type": "execute_result"
    }
   ],
   "source": [
    "product4= data.loc[:,['week','sales4','price4','disp4','feat4','grmar4']]\n",
    "product4.head(5)"
   ]
  },
  {
   "cell_type": "code",
   "execution_count": 10,
   "metadata": {},
   "outputs": [
    {
     "data": {
      "text/html": [
       "<div>\n",
       "<style scoped>\n",
       "    .dataframe tbody tr th:only-of-type {\n",
       "        vertical-align: middle;\n",
       "    }\n",
       "\n",
       "    .dataframe tbody tr th {\n",
       "        vertical-align: top;\n",
       "    }\n",
       "\n",
       "    .dataframe thead th {\n",
       "        text-align: right;\n",
       "    }\n",
       "</style>\n",
       "<table border=\"1\" class=\"dataframe\">\n",
       "  <thead>\n",
       "    <tr style=\"text-align: right;\">\n",
       "      <th></th>\n",
       "      <th>week</th>\n",
       "      <th>sales5</th>\n",
       "      <th>price5</th>\n",
       "      <th>disp5</th>\n",
       "      <th>feat5</th>\n",
       "      <th>grmar5</th>\n",
       "    </tr>\n",
       "  </thead>\n",
       "  <tbody>\n",
       "    <tr>\n",
       "      <th>0</th>\n",
       "      <td>40</td>\n",
       "      <td>2432</td>\n",
       "      <td>0.024844</td>\n",
       "      <td>0</td>\n",
       "      <td>1</td>\n",
       "      <td>0.0101</td>\n",
       "    </tr>\n",
       "    <tr>\n",
       "      <th>1</th>\n",
       "      <td>43</td>\n",
       "      <td>2112</td>\n",
       "      <td>0.038906</td>\n",
       "      <td>0</td>\n",
       "      <td>0</td>\n",
       "      <td>0.4281</td>\n",
       "    </tr>\n",
       "    <tr>\n",
       "      <th>2</th>\n",
       "      <td>44</td>\n",
       "      <td>896</td>\n",
       "      <td>0.038906</td>\n",
       "      <td>0</td>\n",
       "      <td>0</td>\n",
       "      <td>0.4281</td>\n",
       "    </tr>\n",
       "    <tr>\n",
       "      <th>3</th>\n",
       "      <td>45</td>\n",
       "      <td>1152</td>\n",
       "      <td>0.038906</td>\n",
       "      <td>0</td>\n",
       "      <td>0</td>\n",
       "      <td>0.3687</td>\n",
       "    </tr>\n",
       "    <tr>\n",
       "      <th>4</th>\n",
       "      <td>46</td>\n",
       "      <td>3072</td>\n",
       "      <td>0.038906</td>\n",
       "      <td>0</td>\n",
       "      <td>0</td>\n",
       "      <td>0.3747</td>\n",
       "    </tr>\n",
       "  </tbody>\n",
       "</table>\n",
       "</div>"
      ],
      "text/plain": [
       "   week  sales5    price5  disp5  feat5  grmar5\n",
       "0    40    2432  0.024844      0      1  0.0101\n",
       "1    43    2112  0.038906      0      0  0.4281\n",
       "2    44     896  0.038906      0      0  0.4281\n",
       "3    45    1152  0.038906      0      0  0.3687\n",
       "4    46    3072  0.038906      0      0  0.3747"
      ]
     },
     "execution_count": 10,
     "metadata": {},
     "output_type": "execute_result"
    }
   ],
   "source": [
    "product5= data.loc[:,['week','sales5','price5','disp5','feat5','grmar5']]\n",
    "product5.head(5)"
   ]
  },
  {
   "cell_type": "code",
   "execution_count": 11,
   "metadata": {},
   "outputs": [
    {
     "data": {
      "text/html": [
       "<div>\n",
       "<style scoped>\n",
       "    .dataframe tbody tr th:only-of-type {\n",
       "        vertical-align: middle;\n",
       "    }\n",
       "\n",
       "    .dataframe tbody tr th {\n",
       "        vertical-align: top;\n",
       "    }\n",
       "\n",
       "    .dataframe thead th {\n",
       "        text-align: right;\n",
       "    }\n",
       "</style>\n",
       "<table border=\"1\" class=\"dataframe\">\n",
       "  <thead>\n",
       "    <tr style=\"text-align: right;\">\n",
       "      <th></th>\n",
       "      <th>week</th>\n",
       "      <th>sales1</th>\n",
       "      <th>sales2</th>\n",
       "      <th>sales3</th>\n",
       "      <th>sales4</th>\n",
       "      <th>sales5</th>\n",
       "      <th>price1</th>\n",
       "      <th>price2</th>\n",
       "      <th>price3</th>\n",
       "      <th>price4</th>\n",
       "      <th>...</th>\n",
       "      <th>grmar1</th>\n",
       "      <th>grmar2</th>\n",
       "      <th>grmar3</th>\n",
       "      <th>grmar4</th>\n",
       "      <th>grmar5</th>\n",
       "      <th>sales_revenue1</th>\n",
       "      <th>sales_revenue2</th>\n",
       "      <th>sales_revenue3</th>\n",
       "      <th>sales_revenue4</th>\n",
       "      <th>sales_revenue5</th>\n",
       "    </tr>\n",
       "  </thead>\n",
       "  <tbody>\n",
       "    <tr>\n",
       "      <th>0</th>\n",
       "      <td>40</td>\n",
       "      <td>6528</td>\n",
       "      <td>8448</td>\n",
       "      <td>47040</td>\n",
       "      <td>4224</td>\n",
       "      <td>2432</td>\n",
       "      <td>0.057188</td>\n",
       "      <td>0.060312</td>\n",
       "      <td>0.029531</td>\n",
       "      <td>0.046719</td>\n",
       "      <td>...</td>\n",
       "      <td>0.344357</td>\n",
       "      <td>0.295700</td>\n",
       "      <td>0.107935</td>\n",
       "      <td>0.307700</td>\n",
       "      <td>0.0101</td>\n",
       "      <td>23892.48</td>\n",
       "      <td>48913.92</td>\n",
       "      <td>88905.60</td>\n",
       "      <td>12629.76</td>\n",
       "      <td>3866.88</td>\n",
       "    </tr>\n",
       "    <tr>\n",
       "      <th>1</th>\n",
       "      <td>43</td>\n",
       "      <td>6016</td>\n",
       "      <td>8352</td>\n",
       "      <td>3008</td>\n",
       "      <td>5696</td>\n",
       "      <td>2112</td>\n",
       "      <td>0.057188</td>\n",
       "      <td>0.060312</td>\n",
       "      <td>0.044375</td>\n",
       "      <td>0.046719</td>\n",
       "      <td>...</td>\n",
       "      <td>0.342101</td>\n",
       "      <td>0.295700</td>\n",
       "      <td>0.416802</td>\n",
       "      <td>0.365920</td>\n",
       "      <td>0.4281</td>\n",
       "      <td>22018.56</td>\n",
       "      <td>48358.08</td>\n",
       "      <td>8542.72</td>\n",
       "      <td>17031.04</td>\n",
       "      <td>5258.88</td>\n",
       "    </tr>\n",
       "    <tr>\n",
       "      <th>2</th>\n",
       "      <td>44</td>\n",
       "      <td>6272</td>\n",
       "      <td>7776</td>\n",
       "      <td>2816</td>\n",
       "      <td>36160</td>\n",
       "      <td>896</td>\n",
       "      <td>0.057188</td>\n",
       "      <td>0.060312</td>\n",
       "      <td>0.044375</td>\n",
       "      <td>0.040469</td>\n",
       "      <td>...</td>\n",
       "      <td>0.319928</td>\n",
       "      <td>0.295700</td>\n",
       "      <td>0.372591</td>\n",
       "      <td>0.334818</td>\n",
       "      <td>0.4281</td>\n",
       "      <td>22955.52</td>\n",
       "      <td>45023.04</td>\n",
       "      <td>7997.44</td>\n",
       "      <td>93654.40</td>\n",
       "      <td>2231.04</td>\n",
       "    </tr>\n",
       "    <tr>\n",
       "      <th>3</th>\n",
       "      <td>45</td>\n",
       "      <td>6848</td>\n",
       "      <td>7968</td>\n",
       "      <td>28352</td>\n",
       "      <td>3200</td>\n",
       "      <td>1152</td>\n",
       "      <td>0.057188</td>\n",
       "      <td>0.060312</td>\n",
       "      <td>0.037344</td>\n",
       "      <td>0.046719</td>\n",
       "      <td>...</td>\n",
       "      <td>0.264671</td>\n",
       "      <td>0.295700</td>\n",
       "      <td>0.257612</td>\n",
       "      <td>0.404416</td>\n",
       "      <td>0.3687</td>\n",
       "      <td>25063.68</td>\n",
       "      <td>46134.72</td>\n",
       "      <td>67761.28</td>\n",
       "      <td>9568.00</td>\n",
       "      <td>2868.48</td>\n",
       "    </tr>\n",
       "    <tr>\n",
       "      <th>4</th>\n",
       "      <td>46</td>\n",
       "      <td>7424</td>\n",
       "      <td>7296</td>\n",
       "      <td>3712</td>\n",
       "      <td>11904</td>\n",
       "      <td>3072</td>\n",
       "      <td>0.057188</td>\n",
       "      <td>0.060312</td>\n",
       "      <td>0.044375</td>\n",
       "      <td>0.046719</td>\n",
       "      <td>...</td>\n",
       "      <td>0.260983</td>\n",
       "      <td>0.295700</td>\n",
       "      <td>0.363762</td>\n",
       "      <td>0.412581</td>\n",
       "      <td>0.3747</td>\n",
       "      <td>27171.84</td>\n",
       "      <td>42243.84</td>\n",
       "      <td>10542.08</td>\n",
       "      <td>35592.96</td>\n",
       "      <td>7649.28</td>\n",
       "    </tr>\n",
       "    <tr>\n",
       "      <th>5</th>\n",
       "      <td>47</td>\n",
       "      <td>6848</td>\n",
       "      <td>7200</td>\n",
       "      <td>11136</td>\n",
       "      <td>21376</td>\n",
       "      <td>4672</td>\n",
       "      <td>0.057188</td>\n",
       "      <td>0.060312</td>\n",
       "      <td>0.044375</td>\n",
       "      <td>0.037344</td>\n",
       "      <td>...</td>\n",
       "      <td>0.259800</td>\n",
       "      <td>0.295700</td>\n",
       "      <td>0.365395</td>\n",
       "      <td>0.207690</td>\n",
       "      <td>0.2550</td>\n",
       "      <td>25063.68</td>\n",
       "      <td>41688.00</td>\n",
       "      <td>31626.24</td>\n",
       "      <td>51088.64</td>\n",
       "      <td>9764.48</td>\n",
       "    </tr>\n",
       "    <tr>\n",
       "      <th>6</th>\n",
       "      <td>48</td>\n",
       "      <td>7488</td>\n",
       "      <td>7968</td>\n",
       "      <td>35904</td>\n",
       "      <td>3648</td>\n",
       "      <td>1920</td>\n",
       "      <td>0.057188</td>\n",
       "      <td>0.060312</td>\n",
       "      <td>0.037344</td>\n",
       "      <td>0.046719</td>\n",
       "      <td>...</td>\n",
       "      <td>0.259300</td>\n",
       "      <td>0.295700</td>\n",
       "      <td>0.221557</td>\n",
       "      <td>0.344168</td>\n",
       "      <td>0.2569</td>\n",
       "      <td>27406.08</td>\n",
       "      <td>46134.72</td>\n",
       "      <td>85810.56</td>\n",
       "      <td>10907.52</td>\n",
       "      <td>4012.80</td>\n",
       "    </tr>\n",
       "    <tr>\n",
       "      <th>7</th>\n",
       "      <td>49</td>\n",
       "      <td>6336</td>\n",
       "      <td>7200</td>\n",
       "      <td>2368</td>\n",
       "      <td>46848</td>\n",
       "      <td>896</td>\n",
       "      <td>0.057188</td>\n",
       "      <td>0.060312</td>\n",
       "      <td>0.037344</td>\n",
       "      <td>0.031094</td>\n",
       "      <td>...</td>\n",
       "      <td>0.259000</td>\n",
       "      <td>0.338580</td>\n",
       "      <td>0.246486</td>\n",
       "      <td>0.013690</td>\n",
       "      <td>0.2478</td>\n",
       "      <td>23189.76</td>\n",
       "      <td>41688.00</td>\n",
       "      <td>5659.52</td>\n",
       "      <td>93227.52</td>\n",
       "      <td>1872.64</td>\n",
       "    </tr>\n",
       "    <tr>\n",
       "      <th>8</th>\n",
       "      <td>50</td>\n",
       "      <td>6208</td>\n",
       "      <td>11712</td>\n",
       "      <td>45824</td>\n",
       "      <td>3328</td>\n",
       "      <td>1152</td>\n",
       "      <td>0.057188</td>\n",
       "      <td>0.060312</td>\n",
       "      <td>0.031094</td>\n",
       "      <td>0.046719</td>\n",
       "      <td>...</td>\n",
       "      <td>0.259000</td>\n",
       "      <td>0.382092</td>\n",
       "      <td>0.151579</td>\n",
       "      <td>0.351496</td>\n",
       "      <td>0.2512</td>\n",
       "      <td>22721.28</td>\n",
       "      <td>67812.48</td>\n",
       "      <td>91189.76</td>\n",
       "      <td>9950.72</td>\n",
       "      <td>2407.68</td>\n",
       "    </tr>\n",
       "    <tr>\n",
       "      <th>9</th>\n",
       "      <td>51</td>\n",
       "      <td>6400</td>\n",
       "      <td>10368</td>\n",
       "      <td>3008</td>\n",
       "      <td>4096</td>\n",
       "      <td>26432</td>\n",
       "      <td>0.057188</td>\n",
       "      <td>0.060312</td>\n",
       "      <td>0.044375</td>\n",
       "      <td>0.046719</td>\n",
       "      <td>...</td>\n",
       "      <td>0.259000</td>\n",
       "      <td>0.373050</td>\n",
       "      <td>0.395757</td>\n",
       "      <td>0.352683</td>\n",
       "      <td>0.2000</td>\n",
       "      <td>23424.00</td>\n",
       "      <td>60030.72</td>\n",
       "      <td>8542.72</td>\n",
       "      <td>12247.04</td>\n",
       "      <td>49956.48</td>\n",
       "    </tr>\n",
       "  </tbody>\n",
       "</table>\n",
       "<p>10 rows × 31 columns</p>\n",
       "</div>"
      ],
      "text/plain": [
       "   week  sales1  sales2  sales3  sales4  sales5    price1    price2    price3  \\\n",
       "0    40    6528    8448   47040    4224    2432  0.057188  0.060312  0.029531   \n",
       "1    43    6016    8352    3008    5696    2112  0.057188  0.060312  0.044375   \n",
       "2    44    6272    7776    2816   36160     896  0.057188  0.060312  0.044375   \n",
       "3    45    6848    7968   28352    3200    1152  0.057188  0.060312  0.037344   \n",
       "4    46    7424    7296    3712   11904    3072  0.057188  0.060312  0.044375   \n",
       "5    47    6848    7200   11136   21376    4672  0.057188  0.060312  0.044375   \n",
       "6    48    7488    7968   35904    3648    1920  0.057188  0.060312  0.037344   \n",
       "7    49    6336    7200    2368   46848     896  0.057188  0.060312  0.037344   \n",
       "8    50    6208   11712   45824    3328    1152  0.057188  0.060312  0.031094   \n",
       "9    51    6400   10368    3008    4096   26432  0.057188  0.060312  0.044375   \n",
       "\n",
       "     price4  ...    grmar1    grmar2    grmar3    grmar4  grmar5  \\\n",
       "0  0.046719  ...  0.344357  0.295700  0.107935  0.307700  0.0101   \n",
       "1  0.046719  ...  0.342101  0.295700  0.416802  0.365920  0.4281   \n",
       "2  0.040469  ...  0.319928  0.295700  0.372591  0.334818  0.4281   \n",
       "3  0.046719  ...  0.264671  0.295700  0.257612  0.404416  0.3687   \n",
       "4  0.046719  ...  0.260983  0.295700  0.363762  0.412581  0.3747   \n",
       "5  0.037344  ...  0.259800  0.295700  0.365395  0.207690  0.2550   \n",
       "6  0.046719  ...  0.259300  0.295700  0.221557  0.344168  0.2569   \n",
       "7  0.031094  ...  0.259000  0.338580  0.246486  0.013690  0.2478   \n",
       "8  0.046719  ...  0.259000  0.382092  0.151579  0.351496  0.2512   \n",
       "9  0.046719  ...  0.259000  0.373050  0.395757  0.352683  0.2000   \n",
       "\n",
       "   sales_revenue1  sales_revenue2  sales_revenue3  sales_revenue4  \\\n",
       "0        23892.48        48913.92        88905.60        12629.76   \n",
       "1        22018.56        48358.08         8542.72        17031.04   \n",
       "2        22955.52        45023.04         7997.44        93654.40   \n",
       "3        25063.68        46134.72        67761.28         9568.00   \n",
       "4        27171.84        42243.84        10542.08        35592.96   \n",
       "5        25063.68        41688.00        31626.24        51088.64   \n",
       "6        27406.08        46134.72        85810.56        10907.52   \n",
       "7        23189.76        41688.00         5659.52        93227.52   \n",
       "8        22721.28        67812.48        91189.76         9950.72   \n",
       "9        23424.00        60030.72         8542.72        12247.04   \n",
       "\n",
       "   sales_revenue5  \n",
       "0         3866.88  \n",
       "1         5258.88  \n",
       "2         2231.04  \n",
       "3         2868.48  \n",
       "4         7649.28  \n",
       "5         9764.48  \n",
       "6         4012.80  \n",
       "7         1872.64  \n",
       "8         2407.68  \n",
       "9        49956.48  \n",
       "\n",
       "[10 rows x 31 columns]"
      ]
     },
     "execution_count": 11,
     "metadata": {},
     "output_type": "execute_result"
    }
   ],
   "source": [
    "#Products profit function\n",
    "\n",
    "data['sales_revenue1'] = data['sales1']*64*data['price1']\n",
    "data['sales_revenue2'] = data['sales2']*96*data['price2']\n",
    "data['sales_revenue3'] = data['sales3']*64*data['price3']\n",
    "data['sales_revenue4'] = data['sales4']*64*data['price4']\n",
    "data['sales_revenue5'] = data['sales5']*64*data['price5']\n",
    "\n",
    "data.head(10)"
   ]
  },
  {
   "cell_type": "code",
   "execution_count": 12,
   "metadata": {},
   "outputs": [
    {
     "data": {
      "text/plain": [
       "<AxesSubplot:title={'center':'Maximum achieved sales per product'}>"
      ]
     },
     "execution_count": 12,
     "metadata": {},
     "output_type": "execute_result"
    },
    {
     "data": {
      "image/png": "[encoded data removed]",
      "text/plain": [
       "<Figure size 432x288 with 1 Axes>"
      ]
     },
     "metadata": {
      "needs_background": "light"
     },
     "output_type": "display_data"
    }
   ],
   "source": [
    "max_sales = data.iloc[:,1:6].max()\n",
    "max_sales.plot(kind='bar', title = 'Maximum achieved sales per product')"
   ]
  },
  {
   "cell_type": "code",
   "execution_count": 13,
   "metadata": {},
   "outputs": [
    {
     "data": {
      "text/plain": [
       "160    1\n",
       "87     1\n",
       "75     1\n",
       "76     1\n",
       "77     1\n",
       "      ..\n",
       "126    1\n",
       "127    1\n",
       "128    1\n",
       "129    1\n",
       "40     1\n",
       "Name: week, Length: 116, dtype: int64"
      ]
     },
     "execution_count": 13,
     "metadata": {},
     "output_type": "execute_result"
    }
   ],
   "source": [
    "data['week'].value_counts()"
   ]
  },
  {
   "cell_type": "code",
   "execution_count": 14,
   "metadata": {},
   "outputs": [
    {
     "data": {
      "text/plain": [
       "week              False\n",
       "sales1            False\n",
       "sales2            False\n",
       "sales3            False\n",
       "sales4            False\n",
       "sales5            False\n",
       "price1            False\n",
       "price2            False\n",
       "price3            False\n",
       "price4            False\n",
       "price5            False\n",
       "disp1             False\n",
       "disp2             False\n",
       "disp3             False\n",
       "disp4             False\n",
       "disp5             False\n",
       "feat1             False\n",
       "feat2             False\n",
       "feat3             False\n",
       "feat4             False\n",
       "feat5             False\n",
       "grmar1            False\n",
       "grmar2            False\n",
       "grmar3            False\n",
       "grmar4            False\n",
       "grmar5            False\n",
       "sales_revenue1    False\n",
       "sales_revenue2    False\n",
       "sales_revenue3    False\n",
       "sales_revenue4    False\n",
       "sales_revenue5    False\n",
       "dtype: bool"
      ]
     },
     "execution_count": 14,
     "metadata": {},
     "output_type": "execute_result"
    }
   ],
   "source": [
    "#Checking if there are any nulls\n",
    "data.isnull().any(axis=0)"
   ]
  },
  {
   "cell_type": "code",
   "execution_count": 15,
   "metadata": {},
   "outputs": [
    {
     "data": {
      "text/plain": [
       "<AxesSubplot:xlabel='feat1', ylabel='sales_revenue1'>"
      ]
     },
     "execution_count": 15,
     "metadata": {},
     "output_type": "execute_result"
    },
    {
     "data": {
      "image/png": "[encoded data removed]",
      "text/plain": [
       "<Figure size 432x288 with 1 Axes>"
      ]
     },
     "metadata": {
      "needs_background": "light"
     },
     "output_type": "display_data"
    }
   ],
   "source": [
    "# Checking the errors in the binary variables.\n",
    "\n",
    "sns.scatterplot(x = data['feat1'],\n",
    "                y = data['sales_revenue1'],\n",
    "                color = 'g')"
   ]
  },
  {
   "cell_type": "code",
   "execution_count": 16,
   "metadata": {},
   "outputs": [
    {
     "data": {
      "text/plain": [
       "<AxesSubplot:xlabel='sales1', ylabel='Count'>"
      ]
     },
     "execution_count": 16,
     "metadata": {},
     "output_type": "execute_result"
    },
    {
     "data": {
      "image/png": "[encoded data removed]",
      "text/plain": [
       "<Figure size 432x288 with 1 Axes>"
      ]
     },
     "metadata": {
      "needs_background": "light"
     },
     "output_type": "display_data"
    }
   ],
   "source": [
    "#Checking if the distribution is normal\n",
    "\n",
    "sns.histplot(x = data['sales1'],\n",
    "             kde=True,\n",
    "                color = 'g')"
   ]
  },
  {
   "cell_type": "code",
   "execution_count": 17,
   "metadata": {},
   "outputs": [],
   "source": [
    "#Transforming variables into log to aim normal distributions and percentual change\n",
    "\n",
    "#sales revenue LOG\n",
    "data['log_sales_revenue1']= np.log(data['sales_revenue1'])\n",
    "data['log_sales_revenue2']= np.log(data['sales_revenue2'])\n",
    "data['log_sales_revenue3']= np.log(data['sales_revenue3'])\n",
    "data['log_sales_revenue4']= np.log(data['sales_revenue4'])\n",
    "data['log_sales_revenue5']= np.log(data['sales_revenue5'])\n",
    "\n",
    "#Sales LOG\n",
    "data['log_sales1']= np.log(data['sales1'])\n",
    "data['log_sales2']= np.log(data['sales2'])\n",
    "data['log_sales3']= np.log(data['sales3'])\n",
    "data['log_sales4']= np.log(data['sales4'])\n",
    "data['log_sales5']= np.log(data['sales5'])\n",
    "\n",
    "#Price LOG\n",
    "data['log_price1']= np.log(data['price1'])\n",
    "data['log_price2']= np.log(data['price2'])\n",
    "data['log_price3']= np.log(data['price3'])\n",
    "data['log_price4']= np.log(data['price4'])\n",
    "data['log_price5']= np.log(data['price5'])\n",
    "\n",
    "#GRMAR LOG\n",
    "\n",
    "data['log_grmar1']= np.log(data['grmar1'])\n",
    "data['log_grmar2']= np.log(data['grmar2'])\n",
    "data['log_grmar3']= np.log(data['grmar3'])\n",
    "data['log_grmar4']= np.log(data['grmar4'])\n",
    "data['log_grmar5']= np.log(data['grmar5'])"
   ]
  },
  {
   "cell_type": "code",
   "execution_count": 18,
   "metadata": {},
   "outputs": [
    {
     "data": {
      "text/plain": [
       "<AxesSubplot:xlabel='log_sales_revenue1', ylabel='Count'>"
      ]
     },
     "execution_count": 18,
     "metadata": {},
     "output_type": "execute_result"
    },
    {
     "data": {
      "image/png": "[encoded data removed]",
      "text/plain": [
       "<Figure size 432x288 with 1 Axes>"
      ]
     },
     "metadata": {
      "needs_background": "light"
     },
     "output_type": "display_data"
    }
   ],
   "source": [
    "sns.histplot(x = data['log_sales_revenue1'],\n",
    "             kde=True,\n",
    "                color = 'g')"
   ]
  },
  {
   "cell_type": "code",
   "execution_count": 19,
   "metadata": {},
   "outputs": [
    {
     "data": {
      "text/plain": [
       "<AxesSubplot:xlabel='log_sales_revenue2', ylabel='Count'>"
      ]
     },
     "execution_count": 19,
     "metadata": {},
     "output_type": "execute_result"
    },
    {
     "data": {
      "image/png": "[encoded data removed]",
      "text/plain": [
       "<Figure size 432x288 with 1 Axes>"
      ]
     },
     "metadata": {
      "needs_background": "light"
     },
     "output_type": "display_data"
    }
   ],
   "source": [
    "sns.histplot(x = data['log_sales_revenue2'],\n",
    "             kde=True,\n",
    "                color = 'g')"
   ]
  },
  {
   "cell_type": "code",
   "execution_count": 20,
   "metadata": {},
   "outputs": [
    {
     "data": {
      "text/plain": [
       "<AxesSubplot:xlabel='log_sales_revenue3', ylabel='Count'>"
      ]
     },
     "execution_count": 20,
     "metadata": {},
     "output_type": "execute_result"
    },
    {
     "data": {
      "image/png": "[encoded data removed]",
      "text/plain": [
       "<Figure size 432x288 with 1 Axes>"
      ]
     },
     "metadata": {
      "needs_background": "light"
     },
     "output_type": "display_data"
    }
   ],
   "source": [
    "sns.histplot(x = data['log_sales_revenue3'],\n",
    "             kde=True,\n",
    "                color = 'g')"
   ]
  },
  {
   "cell_type": "code",
   "execution_count": 21,
   "metadata": {},
   "outputs": [
    {
     "data": {
      "text/plain": [
       "<AxesSubplot:xlabel='log_sales_revenue4', ylabel='Count'>"
      ]
     },
     "execution_count": 21,
     "metadata": {},
     "output_type": "execute_result"
    },
    {
     "data": {
      "image/png": "[encoded data removed]",
      "text/plain": [
       "<Figure size 432x288 with 1 Axes>"
      ]
     },
     "metadata": {
      "needs_background": "light"
     },
     "output_type": "display_data"
    }
   ],
   "source": [
    "sns.histplot(x = data['log_sales_revenue4'],\n",
    "             kde=True,\n",
    "                color = 'r')"
   ]
  },
  {
   "cell_type": "code",
   "execution_count": 22,
   "metadata": {},
   "outputs": [
    {
     "data": {
      "text/plain": [
       "<AxesSubplot:xlabel='log_sales_revenue5', ylabel='Count'>"
      ]
     },
     "execution_count": 22,
     "metadata": {},
     "output_type": "execute_result"
    },
    {
     "data": {
      "image/png": "[encoded data removed]",
      "text/plain": [
       "<Figure size 432x288 with 1 Axes>"
      ]
     },
     "metadata": {
      "needs_background": "light"
     },
     "output_type": "display_data"
    }
   ],
   "source": [
    "sns.histplot(x = data['log_sales_revenue5'],\n",
    "             kde=True,\n",
    "                color = 'r')"
   ]
  },
  {
   "cell_type": "code",
   "execution_count": 23,
   "metadata": {},
   "outputs": [
    {
     "data": {
      "text/plain": [
       "[0.2793290298224138,\n",
       " 0.2855766088577586,\n",
       " 0.2945649348396551,\n",
       " 0.2533753985586206,\n",
       " 0.2929078949439656]"
      ]
     },
     "execution_count": 23,
     "metadata": {},
     "output_type": "execute_result"
    }
   ],
   "source": [
    "''' Biggest profit margin is product 3, followed up by 5. The least profit margin is the 4th '''\n",
    "\n",
    "#Calculating the average profit margin\n",
    "\n",
    "profit1 = data.loc[:,'grmar1'].mean()\n",
    "profit2 = data.loc[:,'grmar2'].mean()\n",
    "profit3 = data.loc[:,'grmar3'].mean()\n",
    "profit4 = data.loc[:,'grmar4'].mean()\n",
    "profit5 = data.loc[:,'grmar5'].mean()\n",
    "abc=[profit1,profit2,profit3,profit4,profit5]\n",
    "\n",
    "\n",
    "abc\n",
    "\n",
    "# margin_compare=data.loc[:,['grmar1','grmar2','grmar3','grmar4','grmar5']]\n",
    "# sns.histplot(x = abc,\n",
    "#                 color = 'g')"
   ]
  },
  {
   "cell_type": "code",
   "execution_count": 24,
   "metadata": {},
   "outputs": [
    {
     "data": {
      "text/plain": [
       "{'bodies': [<matplotlib.collections.PolyCollection at 0x7feda7288190>],\n",
       " 'cmaxes': <matplotlib.collections.LineCollection at 0x7feda7213fa0>,\n",
       " 'cmins': <matplotlib.collections.LineCollection at 0x7feda7288610>,\n",
       " 'cbars': <matplotlib.collections.LineCollection at 0x7feda7288910>}"
      ]
     },
     "execution_count": 24,
     "metadata": {},
     "output_type": "execute_result"
    },
    {
     "data": {
      "image/png": "[encoded data removed]",
      "text/plain": [
       "<Figure size 432x288 with 1 Axes>"
      ]
     },
     "metadata": {
      "needs_background": "light"
     },
     "output_type": "display_data"
    }
   ],
   "source": [
    "plt.violinplot(abc)"
   ]
  },
  {
   "cell_type": "code",
   "execution_count": 25,
   "metadata": {},
   "outputs": [
    {
     "data": {
      "text/plain": [
       "[<matplotlib.lines.Line2D at 0x7feda737d340>]"
      ]
     },
     "execution_count": 25,
     "metadata": {},
     "output_type": "execute_result"
    },
    {
     "data": {
      "image/png": "[encoded data removed]",
      "text/plain": [
       "<Figure size 432x288 with 1 Axes>"
      ]
     },
     "metadata": {
      "needs_background": "light"
     },
     "output_type": "display_data"
    }
   ],
   "source": [
    "plt.plot(abc)"
   ]
  },
  {
   "cell_type": "code",
   "execution_count": 26,
   "metadata": {},
   "outputs": [],
   "source": [
    "# For loop for disp\n",
    "for index,value in data.iterrows():\n",
    "    if data.loc[index,'disp1'] <= 0.5:\n",
    "        data.loc[index,'disp1']= 0\n",
    "    else:\n",
    "        data.loc[index,'disp1']= 1\n",
    "        \n",
    "\n",
    "for index,value in data.iterrows():\n",
    "    if data.loc[index,'disp2'] <= 0.5:\n",
    "        data.loc[index,'disp2']= 0\n",
    "    else:\n",
    "        data.loc[index,'disp2']= 1\n",
    "\n",
    "        \n",
    "for index,value in data.iterrows():\n",
    "    if data.loc[index,'disp3'] <= 0.5:\n",
    "        data.loc[index,'disp3']= 0\n",
    "    else:\n",
    "        data.loc[index,'disp3']= 1\n",
    "        \n",
    "\n",
    "for index,value in data.iterrows():\n",
    "    if data.loc[index,'disp4'] <= 0.5:\n",
    "        data.loc[index,'disp4']= 0\n",
    "    else:\n",
    "        data.loc[index,'disp4']= 1\n",
    "        \n",
    "\n",
    "for index,value in data.iterrows():\n",
    "    if data.loc[index,'disp5'] <= 0.5:\n",
    "        data.loc[index,'disp5']= 0\n",
    "    else:\n",
    "        data.loc[index,'disp5']= 1\n",
    "        \n",
    "        \n",
    "# For loop for feat\n",
    "for index,value in data.iterrows():\n",
    "    if data.loc[index,'feat1'] <= 0.5:\n",
    "        data.loc[index,'feat1']= 0\n",
    "    else:\n",
    "        data.loc[index,'feat1']= 1\n",
    "        \n",
    "    \n",
    "for index,value in data.iterrows():\n",
    "    if data.loc[index,'feat2'] <= 0.5:\n",
    "        data.loc[index,'feat2']= 0\n",
    "    else:\n",
    "        data.loc[index,'feat2']= 1\n",
    "        \n",
    "    \n",
    "for index,value in data.iterrows():\n",
    "    if data.loc[index,'feat3'] <= 0.5:\n",
    "        data.loc[index,'feat3']= 0\n",
    "    else:\n",
    "        data.loc[index,'feat3']= 1\n",
    "        \n",
    "        \n",
    "for index,value in data.iterrows():\n",
    "    if data.loc[index,'feat4'] <= 0.5:\n",
    "        data.loc[index,'feat4']= 0\n",
    "    else:\n",
    "        data.loc[index,'feat4']= 1\n",
    "        \n",
    "        \n",
    "for index,value in data.iterrows():\n",
    "    if data.loc[index,'feat5'] <= 0.5:\n",
    "        data.loc[index,'feat5']= 0\n",
    "    else:\n",
    "        data.loc[index,'feat5']= 1"
   ]
  },
  {
   "cell_type": "code",
   "execution_count": 27,
   "metadata": {},
   "outputs": [],
   "source": [
    "# Change data types\n",
    "data.disp1 = data.disp1.astype(int)\n",
    "data.disp2 = data.disp2.astype(int)\n",
    "data.disp3 = data.disp3.astype(int)\n",
    "data.disp4 = data.disp4.astype(int)\n",
    "data.feat1 = data.feat1.astype(int)\n",
    "data.feat2 = data.feat2.astype(int)\n",
    "data.feat3 = data.feat3.astype(int)\n",
    "data.feat4 = data.feat4.astype(int)"
   ]
  },
  {
   "cell_type": "code",
   "execution_count": 28,
   "metadata": {},
   "outputs": [
    {
     "data": {
      "text/html": [
       "<div>\n",
       "<style scoped>\n",
       "    .dataframe tbody tr th:only-of-type {\n",
       "        vertical-align: middle;\n",
       "    }\n",
       "\n",
       "    .dataframe tbody tr th {\n",
       "        vertical-align: top;\n",
       "    }\n",
       "\n",
       "    .dataframe thead th {\n",
       "        text-align: right;\n",
       "    }\n",
       "</style>\n",
       "<table border=\"1\" class=\"dataframe\">\n",
       "  <thead>\n",
       "    <tr style=\"text-align: right;\">\n",
       "      <th></th>\n",
       "      <th>disp1</th>\n",
       "      <th>disp2</th>\n",
       "      <th>disp3</th>\n",
       "      <th>disp4</th>\n",
       "      <th>disp5</th>\n",
       "      <th>feat1</th>\n",
       "      <th>feat2</th>\n",
       "      <th>feat3</th>\n",
       "      <th>feat4</th>\n",
       "      <th>feat5</th>\n",
       "    </tr>\n",
       "  </thead>\n",
       "  <tbody>\n",
       "    <tr>\n",
       "      <th>count</th>\n",
       "      <td>116.000000</td>\n",
       "      <td>116.000000</td>\n",
       "      <td>116.000000</td>\n",
       "      <td>116.000000</td>\n",
       "      <td>116.000000</td>\n",
       "      <td>116.000000</td>\n",
       "      <td>116.000000</td>\n",
       "      <td>116.000000</td>\n",
       "      <td>116.000000</td>\n",
       "      <td>116.000000</td>\n",
       "    </tr>\n",
       "    <tr>\n",
       "      <th>mean</th>\n",
       "      <td>0.431034</td>\n",
       "      <td>0.250000</td>\n",
       "      <td>0.405172</td>\n",
       "      <td>0.491379</td>\n",
       "      <td>0.491379</td>\n",
       "      <td>0.172414</td>\n",
       "      <td>0.129310</td>\n",
       "      <td>0.327586</td>\n",
       "      <td>0.267241</td>\n",
       "      <td>0.250000</td>\n",
       "    </tr>\n",
       "    <tr>\n",
       "      <th>std</th>\n",
       "      <td>0.497369</td>\n",
       "      <td>0.434891</td>\n",
       "      <td>0.493055</td>\n",
       "      <td>0.502095</td>\n",
       "      <td>0.502095</td>\n",
       "      <td>0.379378</td>\n",
       "      <td>0.336999</td>\n",
       "      <td>0.471369</td>\n",
       "      <td>0.444439</td>\n",
       "      <td>0.434891</td>\n",
       "    </tr>\n",
       "    <tr>\n",
       "      <th>min</th>\n",
       "      <td>0.000000</td>\n",
       "      <td>0.000000</td>\n",
       "      <td>0.000000</td>\n",
       "      <td>0.000000</td>\n",
       "      <td>0.000000</td>\n",
       "      <td>0.000000</td>\n",
       "      <td>0.000000</td>\n",
       "      <td>0.000000</td>\n",
       "      <td>0.000000</td>\n",
       "      <td>0.000000</td>\n",
       "    </tr>\n",
       "    <tr>\n",
       "      <th>25%</th>\n",
       "      <td>0.000000</td>\n",
       "      <td>0.000000</td>\n",
       "      <td>0.000000</td>\n",
       "      <td>0.000000</td>\n",
       "      <td>0.000000</td>\n",
       "      <td>0.000000</td>\n",
       "      <td>0.000000</td>\n",
       "      <td>0.000000</td>\n",
       "      <td>0.000000</td>\n",
       "      <td>0.000000</td>\n",
       "    </tr>\n",
       "    <tr>\n",
       "      <th>50%</th>\n",
       "      <td>0.000000</td>\n",
       "      <td>0.000000</td>\n",
       "      <td>0.000000</td>\n",
       "      <td>0.000000</td>\n",
       "      <td>0.000000</td>\n",
       "      <td>0.000000</td>\n",
       "      <td>0.000000</td>\n",
       "      <td>0.000000</td>\n",
       "      <td>0.000000</td>\n",
       "      <td>0.000000</td>\n",
       "    </tr>\n",
       "    <tr>\n",
       "      <th>75%</th>\n",
       "      <td>1.000000</td>\n",
       "      <td>0.250000</td>\n",
       "      <td>1.000000</td>\n",
       "      <td>1.000000</td>\n",
       "      <td>1.000000</td>\n",
       "      <td>0.000000</td>\n",
       "      <td>0.000000</td>\n",
       "      <td>1.000000</td>\n",
       "      <td>1.000000</td>\n",
       "      <td>0.250000</td>\n",
       "    </tr>\n",
       "    <tr>\n",
       "      <th>max</th>\n",
       "      <td>1.000000</td>\n",
       "      <td>1.000000</td>\n",
       "      <td>1.000000</td>\n",
       "      <td>1.000000</td>\n",
       "      <td>1.000000</td>\n",
       "      <td>1.000000</td>\n",
       "      <td>1.000000</td>\n",
       "      <td>1.000000</td>\n",
       "      <td>1.000000</td>\n",
       "      <td>1.000000</td>\n",
       "    </tr>\n",
       "  </tbody>\n",
       "</table>\n",
       "</div>"
      ],
      "text/plain": [
       "            disp1       disp2       disp3       disp4       disp5       feat1  \\\n",
       "count  116.000000  116.000000  116.000000  116.000000  116.000000  116.000000   \n",
       "mean     0.431034    0.250000    0.405172    0.491379    0.491379    0.172414   \n",
       "std      0.497369    0.434891    0.493055    0.502095    0.502095    0.379378   \n",
       "min      0.000000    0.000000    0.000000    0.000000    0.000000    0.000000   \n",
       "25%      0.000000    0.000000    0.000000    0.000000    0.000000    0.000000   \n",
       "50%      0.000000    0.000000    0.000000    0.000000    0.000000    0.000000   \n",
       "75%      1.000000    0.250000    1.000000    1.000000    1.000000    0.000000   \n",
       "max      1.000000    1.000000    1.000000    1.000000    1.000000    1.000000   \n",
       "\n",
       "            feat2       feat3       feat4       feat5  \n",
       "count  116.000000  116.000000  116.000000  116.000000  \n",
       "mean     0.129310    0.327586    0.267241    0.250000  \n",
       "std      0.336999    0.471369    0.444439    0.434891  \n",
       "min      0.000000    0.000000    0.000000    0.000000  \n",
       "25%      0.000000    0.000000    0.000000    0.000000  \n",
       "50%      0.000000    0.000000    0.000000    0.000000  \n",
       "75%      0.000000    1.000000    1.000000    0.250000  \n",
       "max      1.000000    1.000000    1.000000    1.000000  "
      ]
     },
     "execution_count": 28,
     "metadata": {},
     "output_type": "execute_result"
    }
   ],
   "source": [
    "data.iloc[:,11:21].describe()"
   ]
  },
  {
   "cell_type": "code",
   "execution_count": 29,
   "metadata": {
    "scrolled": true
   },
   "outputs": [
    {
     "data": {
      "text/plain": [
       "160    1\n",
       "87     1\n",
       "75     1\n",
       "76     1\n",
       "77     1\n",
       "      ..\n",
       "126    1\n",
       "127    1\n",
       "128    1\n",
       "129    1\n",
       "40     1\n",
       "Name: week, Length: 116, dtype: int64"
      ]
     },
     "execution_count": 29,
     "metadata": {},
     "output_type": "execute_result"
    }
   ],
   "source": [
    "data['week'].value_counts()"
   ]
  },
  {
   "cell_type": "code",
   "execution_count": 30,
   "metadata": {},
   "outputs": [],
   "source": [
    "# Quantity Demanded as a function of price\n",
    "\n",
    "'''\n",
    "Sales (units sold) = (GRMAR*Price)*64\n",
    "Variables for regression: Disp and Feat\n",
    "'''\n",
    "\n",
    "\n",
    "\n",
    "# Starting here is for product 1\n",
    "\n",
    "\n",
    "avg_sales1 = data['sales1'].mean()\n",
    "sigma_sales1 = data['sales1'].std()\n",
    "avg_grmar1 = data['grmar1'].mean()\n",
    "sigma_grmar1 = data['grmar1'].std()\n",
    "avg_price1 = data['price1'].mean()\n",
    "sigma_price1 = data['price1'].std()\n"
   ]
  },
  {
   "cell_type": "code",
   "execution_count": 31,
   "metadata": {},
   "outputs": [],
   "source": [
    "# Starting here is for product 2\n",
    "\n",
    "\n",
    "avg_sales2 = data['sales2'].mean()\n",
    "sigma_sales2 = data['sales2'].std()\n",
    "avg_grmar2 = data['grmar2'].mean()\n",
    "sigma_grmar2 = data['grmar2'].std()\n",
    "avg_price2 = data['price2'].mean()\n",
    "sigma_price2 = data['price2'].std()"
   ]
  },
  {
   "cell_type": "code",
   "execution_count": 32,
   "metadata": {},
   "outputs": [],
   "source": [
    "# Starting here is for product 3\n",
    "\n",
    "\n",
    "avg_sales3 = data['sales3'].mean()\n",
    "sigma_sales3 = data['sales3'].std()\n",
    "avg_grmar3 = data['grmar3'].mean()\n",
    "sigma_grmar3 = data['grmar3'].std()\n",
    "avg_price3 = data['price3'].mean()\n",
    "sigma_price3 = data['price3'].std()"
   ]
  },
  {
   "cell_type": "code",
   "execution_count": 33,
   "metadata": {},
   "outputs": [],
   "source": [
    "# Starting here is for product 4\n",
    "\n",
    "\n",
    "avg_sales4 = data['sales4'].mean()\n",
    "sigma_sales4 = data['sales4'].std()\n",
    "avg_grmar4 = data['grmar4'].mean()\n",
    "sigma_grmar4 = data['grmar4'].std()\n",
    "avg_price4 = data['price4'].mean()\n",
    "sigma_price4 = data['price4'].std()"
   ]
  },
  {
   "cell_type": "code",
   "execution_count": 34,
   "metadata": {},
   "outputs": [],
   "source": [
    "# Starting here is for product 5\n",
    "\n",
    "\n",
    "avg_sales5 = data['sales5'].mean()\n",
    "sigma_sales5 = data['sales5'].std()\n",
    "avg_grmar5 = data['grmar5'].mean()\n",
    "sigma_grmar5 = data['grmar5'].std()\n",
    "avg_price5 = data['price5'].mean()\n",
    "sigma_price5 = data['price5'].std()"
   ]
  },
  {
   "cell_type": "code",
   "execution_count": 35,
   "metadata": {},
   "outputs": [],
   "source": [
    "#fix the random seed\n",
    "np.random.seed(42) \n",
    "\n",
    "#set the number of simulations\n",
    "number_sims = 10_000\n",
    "\n",
    "all_stats_1 = []\n",
    "all_stats_2 = []\n",
    "all_stats_3 = []\n",
    "all_stats_4 = []\n",
    "all_stats_5 = []"
   ]
  },
  {
   "cell_type": "code",
   "execution_count": 36,
   "metadata": {},
   "outputs": [],
   "source": [
    "# Product 1\n",
    "#Beginning simulation loop\n",
    "for i in range(number_sims):\n",
    "    grmar1_current     = np.random.normal(avg_grmar1, sigma_grmar1)\n",
    "    price1_current     = np.random.normal(avg_price1, sigma_price1)\n",
    "    sales_current1 = grmar1_current*price1_current*64\n",
    "    \n",
    "    all_stats_1.append([grmar1_current, price1_current, sales_current1])"
   ]
  },
  {
   "cell_type": "code",
   "execution_count": 37,
   "metadata": {},
   "outputs": [],
   "source": [
    "# Product 2\n",
    "# Beginning simulation loop\n",
    "for i in range(number_sims):\n",
    "    grmar2_current     = np.random.normal(avg_grmar2, sigma_grmar2)\n",
    "    price2_current     = np.random.normal(avg_price2, sigma_price2)\n",
    "    sales_current2 = grmar2_current*price2_current*96 \n",
    "    \n",
    "    all_stats_2.append([grmar2_current, price2_current, sales_current2])"
   ]
  },
  {
   "cell_type": "code",
   "execution_count": 38,
   "metadata": {},
   "outputs": [],
   "source": [
    "# Product 3\n",
    "# Beginning simulation loop\n",
    "for i in range(number_sims):\n",
    "    grmar3_current     = np.random.normal(avg_grmar3, sigma_grmar3)\n",
    "    price3_current     = np.random.normal(avg_price3, sigma_price3)\n",
    "    sales_current3 = grmar3_current*price3_current* 64\n",
    "    \n",
    "    all_stats_3.append([grmar3_current, price3_current, sales_current3])"
   ]
  },
  {
   "cell_type": "code",
   "execution_count": 39,
   "metadata": {},
   "outputs": [],
   "source": [
    "# Product 4\n",
    "# Beginning simulation loop\n",
    "for i in range(number_sims):\n",
    "    grmar4_current     = np.random.normal(avg_grmar4, sigma_grmar4)\n",
    "    price4_current     = np.random.normal(avg_price4, sigma_price4)\n",
    "    sales_current4 = grmar4_current*price4_current* 64\n",
    "    \n",
    "    all_stats_4.append([grmar4_current, price4_current, sales_current4])"
   ]
  },
  {
   "cell_type": "code",
   "execution_count": 40,
   "metadata": {},
   "outputs": [],
   "source": [
    "# Product 5\n",
    "# Beginning simulation loop\n",
    "for i in range(number_sims):\n",
    "    grmar5_current     = np.random.normal(avg_grmar5, sigma_grmar5)\n",
    "    price5_current     = np.random.normal(avg_price5, sigma_price5)\n",
    "    sales_current5 = grmar5_current*price5_current* 64\n",
    "    \n",
    "    all_stats_5.append([grmar5_current, price5_current, sales_current5])"
   ]
  },
  {
   "cell_type": "code",
   "execution_count": 41,
   "metadata": {},
   "outputs": [
    {
     "data": {
      "text/html": [
       "<div>\n",
       "<style scoped>\n",
       "    .dataframe tbody tr th:only-of-type {\n",
       "        vertical-align: middle;\n",
       "    }\n",
       "\n",
       "    .dataframe tbody tr th {\n",
       "        vertical-align: top;\n",
       "    }\n",
       "\n",
       "    .dataframe thead th {\n",
       "        text-align: right;\n",
       "    }\n",
       "</style>\n",
       "<table border=\"1\" class=\"dataframe\">\n",
       "  <thead>\n",
       "    <tr style=\"text-align: right;\">\n",
       "      <th></th>\n",
       "      <th>GRMAR</th>\n",
       "      <th>PRICE</th>\n",
       "      <th>PROFIT PER UNIT</th>\n",
       "    </tr>\n",
       "  </thead>\n",
       "  <tbody>\n",
       "    <tr>\n",
       "      <th>0</th>\n",
       "      <td>0.340257</td>\n",
       "      <td>0.044121</td>\n",
       "      <td>0.960797</td>\n",
       "    </tr>\n",
       "    <tr>\n",
       "      <th>1</th>\n",
       "      <td>0.358776</td>\n",
       "      <td>0.058546</td>\n",
       "      <td>1.344316</td>\n",
       "    </tr>\n",
       "    <tr>\n",
       "      <th>2</th>\n",
       "      <td>0.250607</td>\n",
       "      <td>0.043288</td>\n",
       "      <td>0.694296</td>\n",
       "    </tr>\n",
       "    <tr>\n",
       "      <th>3</th>\n",
       "      <td>0.473040</td>\n",
       "      <td>0.051985</td>\n",
       "      <td>1.573827</td>\n",
       "    </tr>\n",
       "    <tr>\n",
       "      <th>4</th>\n",
       "      <td>0.221742</td>\n",
       "      <td>0.050033</td>\n",
       "      <td>0.710035</td>\n",
       "    </tr>\n",
       "    <tr>\n",
       "      <th>...</th>\n",
       "      <td>...</td>\n",
       "      <td>...</td>\n",
       "      <td>...</td>\n",
       "    </tr>\n",
       "    <tr>\n",
       "      <th>9995</th>\n",
       "      <td>0.430556</td>\n",
       "      <td>0.041252</td>\n",
       "      <td>1.136723</td>\n",
       "    </tr>\n",
       "    <tr>\n",
       "      <th>9996</th>\n",
       "      <td>0.388357</td>\n",
       "      <td>0.053158</td>\n",
       "      <td>1.321229</td>\n",
       "    </tr>\n",
       "    <tr>\n",
       "      <th>9997</th>\n",
       "      <td>0.396177</td>\n",
       "      <td>0.048689</td>\n",
       "      <td>1.234523</td>\n",
       "    </tr>\n",
       "    <tr>\n",
       "      <th>9998</th>\n",
       "      <td>0.448281</td>\n",
       "      <td>0.048607</td>\n",
       "      <td>1.394525</td>\n",
       "    </tr>\n",
       "    <tr>\n",
       "      <th>9999</th>\n",
       "      <td>0.489516</td>\n",
       "      <td>0.031256</td>\n",
       "      <td>0.979204</td>\n",
       "    </tr>\n",
       "  </tbody>\n",
       "</table>\n",
       "<p>10000 rows × 3 columns</p>\n",
       "</div>"
      ],
      "text/plain": [
       "         GRMAR     PRICE  PROFIT PER UNIT\n",
       "0     0.340257  0.044121         0.960797\n",
       "1     0.358776  0.058546         1.344316\n",
       "2     0.250607  0.043288         0.694296\n",
       "3     0.473040  0.051985         1.573827\n",
       "4     0.221742  0.050033         0.710035\n",
       "...        ...       ...              ...\n",
       "9995  0.430556  0.041252         1.136723\n",
       "9996  0.388357  0.053158         1.321229\n",
       "9997  0.396177  0.048689         1.234523\n",
       "9998  0.448281  0.048607         1.394525\n",
       "9999  0.489516  0.031256         0.979204\n",
       "\n",
       "[10000 rows x 3 columns]"
      ]
     },
     "execution_count": 41,
     "metadata": {},
     "output_type": "execute_result"
    }
   ],
   "source": [
    "# Product 1\n",
    "#adding to a dataframe\n",
    "results_df_1 = pd.DataFrame.from_records(all_stats_1, columns = ['GRMAR', 'PRICE', 'PROFIT PER UNIT'])\n",
    "\n",
    "#printing results\n",
    "results_df_1"
   ]
  },
  {
   "cell_type": "code",
   "execution_count": 42,
   "metadata": {},
   "outputs": [
    {
     "data": {
      "text/html": [
       "<div>\n",
       "<style scoped>\n",
       "    .dataframe tbody tr th:only-of-type {\n",
       "        vertical-align: middle;\n",
       "    }\n",
       "\n",
       "    .dataframe tbody tr th {\n",
       "        vertical-align: top;\n",
       "    }\n",
       "\n",
       "    .dataframe thead th {\n",
       "        text-align: right;\n",
       "    }\n",
       "</style>\n",
       "<table border=\"1\" class=\"dataframe\">\n",
       "  <thead>\n",
       "    <tr style=\"text-align: right;\">\n",
       "      <th></th>\n",
       "      <th>GRMAR</th>\n",
       "      <th>PRICE</th>\n",
       "      <th>PROFIT PER UNIT</th>\n",
       "    </tr>\n",
       "  </thead>\n",
       "  <tbody>\n",
       "    <tr>\n",
       "      <th>0</th>\n",
       "      <td>0.307411</td>\n",
       "      <td>0.051661</td>\n",
       "      <td>1.524578</td>\n",
       "    </tr>\n",
       "    <tr>\n",
       "      <th>1</th>\n",
       "      <td>0.226866</td>\n",
       "      <td>0.053362</td>\n",
       "      <td>1.162184</td>\n",
       "    </tr>\n",
       "    <tr>\n",
       "      <th>2</th>\n",
       "      <td>0.192163</td>\n",
       "      <td>0.046276</td>\n",
       "      <td>0.853677</td>\n",
       "    </tr>\n",
       "    <tr>\n",
       "      <th>3</th>\n",
       "      <td>0.160254</td>\n",
       "      <td>0.058986</td>\n",
       "      <td>0.907457</td>\n",
       "    </tr>\n",
       "    <tr>\n",
       "      <th>4</th>\n",
       "      <td>0.271061</td>\n",
       "      <td>0.062480</td>\n",
       "      <td>1.625832</td>\n",
       "    </tr>\n",
       "    <tr>\n",
       "      <th>...</th>\n",
       "      <td>...</td>\n",
       "      <td>...</td>\n",
       "      <td>...</td>\n",
       "    </tr>\n",
       "    <tr>\n",
       "      <th>9995</th>\n",
       "      <td>0.400253</td>\n",
       "      <td>0.055740</td>\n",
       "      <td>2.141756</td>\n",
       "    </tr>\n",
       "    <tr>\n",
       "      <th>9996</th>\n",
       "      <td>0.295514</td>\n",
       "      <td>0.046600</td>\n",
       "      <td>1.322021</td>\n",
       "    </tr>\n",
       "    <tr>\n",
       "      <th>9997</th>\n",
       "      <td>0.224338</td>\n",
       "      <td>0.056464</td>\n",
       "      <td>1.216044</td>\n",
       "    </tr>\n",
       "    <tr>\n",
       "      <th>9998</th>\n",
       "      <td>0.302192</td>\n",
       "      <td>0.053574</td>\n",
       "      <td>1.554212</td>\n",
       "    </tr>\n",
       "    <tr>\n",
       "      <th>9999</th>\n",
       "      <td>0.336645</td>\n",
       "      <td>0.052078</td>\n",
       "      <td>1.683051</td>\n",
       "    </tr>\n",
       "  </tbody>\n",
       "</table>\n",
       "<p>10000 rows × 3 columns</p>\n",
       "</div>"
      ],
      "text/plain": [
       "         GRMAR     PRICE  PROFIT PER UNIT\n",
       "0     0.307411  0.051661         1.524578\n",
       "1     0.226866  0.053362         1.162184\n",
       "2     0.192163  0.046276         0.853677\n",
       "3     0.160254  0.058986         0.907457\n",
       "4     0.271061  0.062480         1.625832\n",
       "...        ...       ...              ...\n",
       "9995  0.400253  0.055740         2.141756\n",
       "9996  0.295514  0.046600         1.322021\n",
       "9997  0.224338  0.056464         1.216044\n",
       "9998  0.302192  0.053574         1.554212\n",
       "9999  0.336645  0.052078         1.683051\n",
       "\n",
       "[10000 rows x 3 columns]"
      ]
     },
     "execution_count": 42,
     "metadata": {},
     "output_type": "execute_result"
    }
   ],
   "source": [
    "# Product 2\n",
    "#adding to a dataframe\n",
    "results_df_2 = pd.DataFrame.from_records(all_stats_2, columns = ['GRMAR', 'PRICE', 'PROFIT PER UNIT'])\n",
    "\n",
    "#printing results\n",
    "results_df_2"
   ]
  },
  {
   "cell_type": "code",
   "execution_count": 43,
   "metadata": {},
   "outputs": [
    {
     "data": {
      "text/html": [
       "<div>\n",
       "<style scoped>\n",
       "    .dataframe tbody tr th:only-of-type {\n",
       "        vertical-align: middle;\n",
       "    }\n",
       "\n",
       "    .dataframe tbody tr th {\n",
       "        vertical-align: top;\n",
       "    }\n",
       "\n",
       "    .dataframe thead th {\n",
       "        text-align: right;\n",
       "    }\n",
       "</style>\n",
       "<table border=\"1\" class=\"dataframe\">\n",
       "  <thead>\n",
       "    <tr style=\"text-align: right;\">\n",
       "      <th></th>\n",
       "      <th>GRMAR</th>\n",
       "      <th>PRICE</th>\n",
       "      <th>PROFIT PER UNIT</th>\n",
       "    </tr>\n",
       "  </thead>\n",
       "  <tbody>\n",
       "    <tr>\n",
       "      <th>0</th>\n",
       "      <td>0.240818</td>\n",
       "      <td>0.042347</td>\n",
       "      <td>0.652673</td>\n",
       "    </tr>\n",
       "    <tr>\n",
       "      <th>1</th>\n",
       "      <td>0.271990</td>\n",
       "      <td>0.036536</td>\n",
       "      <td>0.636001</td>\n",
       "    </tr>\n",
       "    <tr>\n",
       "      <th>2</th>\n",
       "      <td>0.376279</td>\n",
       "      <td>0.035594</td>\n",
       "      <td>0.857169</td>\n",
       "    </tr>\n",
       "    <tr>\n",
       "      <th>3</th>\n",
       "      <td>0.087503</td>\n",
       "      <td>0.042523</td>\n",
       "      <td>0.238137</td>\n",
       "    </tr>\n",
       "    <tr>\n",
       "      <th>4</th>\n",
       "      <td>0.437508</td>\n",
       "      <td>0.024426</td>\n",
       "      <td>0.683945</td>\n",
       "    </tr>\n",
       "    <tr>\n",
       "      <th>...</th>\n",
       "      <td>...</td>\n",
       "      <td>...</td>\n",
       "      <td>...</td>\n",
       "    </tr>\n",
       "    <tr>\n",
       "      <th>9995</th>\n",
       "      <td>0.284913</td>\n",
       "      <td>0.033402</td>\n",
       "      <td>0.609076</td>\n",
       "    </tr>\n",
       "    <tr>\n",
       "      <th>9996</th>\n",
       "      <td>0.201672</td>\n",
       "      <td>0.031447</td>\n",
       "      <td>0.405890</td>\n",
       "    </tr>\n",
       "    <tr>\n",
       "      <th>9997</th>\n",
       "      <td>0.355361</td>\n",
       "      <td>0.031543</td>\n",
       "      <td>0.717376</td>\n",
       "    </tr>\n",
       "    <tr>\n",
       "      <th>9998</th>\n",
       "      <td>0.169378</td>\n",
       "      <td>0.036854</td>\n",
       "      <td>0.399507</td>\n",
       "    </tr>\n",
       "    <tr>\n",
       "      <th>9999</th>\n",
       "      <td>0.046027</td>\n",
       "      <td>0.035925</td>\n",
       "      <td>0.105826</td>\n",
       "    </tr>\n",
       "  </tbody>\n",
       "</table>\n",
       "<p>10000 rows × 3 columns</p>\n",
       "</div>"
      ],
      "text/plain": [
       "         GRMAR     PRICE  PROFIT PER UNIT\n",
       "0     0.240818  0.042347         0.652673\n",
       "1     0.271990  0.036536         0.636001\n",
       "2     0.376279  0.035594         0.857169\n",
       "3     0.087503  0.042523         0.238137\n",
       "4     0.437508  0.024426         0.683945\n",
       "...        ...       ...              ...\n",
       "9995  0.284913  0.033402         0.609076\n",
       "9996  0.201672  0.031447         0.405890\n",
       "9997  0.355361  0.031543         0.717376\n",
       "9998  0.169378  0.036854         0.399507\n",
       "9999  0.046027  0.035925         0.105826\n",
       "\n",
       "[10000 rows x 3 columns]"
      ]
     },
     "execution_count": 43,
     "metadata": {},
     "output_type": "execute_result"
    }
   ],
   "source": [
    "# Product 3\n",
    "#adding to a dataframe\n",
    "results_df_3 = pd.DataFrame.from_records(all_stats_3, columns = ['GRMAR', 'PRICE', 'PROFIT PER UNIT'])\n",
    "\n",
    "#printing results\n",
    "results_df_3"
   ]
  },
  {
   "cell_type": "code",
   "execution_count": 44,
   "metadata": {},
   "outputs": [
    {
     "data": {
      "text/html": [
       "<div>\n",
       "<style scoped>\n",
       "    .dataframe tbody tr th:only-of-type {\n",
       "        vertical-align: middle;\n",
       "    }\n",
       "\n",
       "    .dataframe tbody tr th {\n",
       "        vertical-align: top;\n",
       "    }\n",
       "\n",
       "    .dataframe thead th {\n",
       "        text-align: right;\n",
       "    }\n",
       "</style>\n",
       "<table border=\"1\" class=\"dataframe\">\n",
       "  <thead>\n",
       "    <tr style=\"text-align: right;\">\n",
       "      <th></th>\n",
       "      <th>GRMAR</th>\n",
       "      <th>PRICE</th>\n",
       "      <th>PROFIT PER UNIT</th>\n",
       "    </tr>\n",
       "  </thead>\n",
       "  <tbody>\n",
       "    <tr>\n",
       "      <th>0</th>\n",
       "      <td>0.262056</td>\n",
       "      <td>0.038875</td>\n",
       "      <td>0.651993</td>\n",
       "    </tr>\n",
       "    <tr>\n",
       "      <th>1</th>\n",
       "      <td>0.290933</td>\n",
       "      <td>0.027643</td>\n",
       "      <td>0.514713</td>\n",
       "    </tr>\n",
       "    <tr>\n",
       "      <th>2</th>\n",
       "      <td>0.232871</td>\n",
       "      <td>0.039423</td>\n",
       "      <td>0.587554</td>\n",
       "    </tr>\n",
       "    <tr>\n",
       "      <th>3</th>\n",
       "      <td>0.299405</td>\n",
       "      <td>0.030670</td>\n",
       "      <td>0.587695</td>\n",
       "    </tr>\n",
       "    <tr>\n",
       "      <th>4</th>\n",
       "      <td>0.299170</td>\n",
       "      <td>0.041022</td>\n",
       "      <td>0.785452</td>\n",
       "    </tr>\n",
       "    <tr>\n",
       "      <th>...</th>\n",
       "      <td>...</td>\n",
       "      <td>...</td>\n",
       "      <td>...</td>\n",
       "    </tr>\n",
       "    <tr>\n",
       "      <th>9995</th>\n",
       "      <td>0.291894</td>\n",
       "      <td>0.028455</td>\n",
       "      <td>0.531583</td>\n",
       "    </tr>\n",
       "    <tr>\n",
       "      <th>9996</th>\n",
       "      <td>0.095434</td>\n",
       "      <td>0.038877</td>\n",
       "      <td>0.237454</td>\n",
       "    </tr>\n",
       "    <tr>\n",
       "      <th>9997</th>\n",
       "      <td>0.347555</td>\n",
       "      <td>0.041181</td>\n",
       "      <td>0.916011</td>\n",
       "    </tr>\n",
       "    <tr>\n",
       "      <th>9998</th>\n",
       "      <td>0.206104</td>\n",
       "      <td>0.032579</td>\n",
       "      <td>0.429740</td>\n",
       "    </tr>\n",
       "    <tr>\n",
       "      <th>9999</th>\n",
       "      <td>0.253007</td>\n",
       "      <td>0.029379</td>\n",
       "      <td>0.475715</td>\n",
       "    </tr>\n",
       "  </tbody>\n",
       "</table>\n",
       "<p>10000 rows × 3 columns</p>\n",
       "</div>"
      ],
      "text/plain": [
       "         GRMAR     PRICE  PROFIT PER UNIT\n",
       "0     0.262056  0.038875         0.651993\n",
       "1     0.290933  0.027643         0.514713\n",
       "2     0.232871  0.039423         0.587554\n",
       "3     0.299405  0.030670         0.587695\n",
       "4     0.299170  0.041022         0.785452\n",
       "...        ...       ...              ...\n",
       "9995  0.291894  0.028455         0.531583\n",
       "9996  0.095434  0.038877         0.237454\n",
       "9997  0.347555  0.041181         0.916011\n",
       "9998  0.206104  0.032579         0.429740\n",
       "9999  0.253007  0.029379         0.475715\n",
       "\n",
       "[10000 rows x 3 columns]"
      ]
     },
     "execution_count": 44,
     "metadata": {},
     "output_type": "execute_result"
    }
   ],
   "source": [
    "# Product 4\n",
    "#adding to a dataframe\n",
    "results_df_4 = pd.DataFrame.from_records(all_stats_4, columns = ['GRMAR', 'PRICE', 'PROFIT PER UNIT'])\n",
    "\n",
    "#printing results\n",
    "results_df_4"
   ]
  },
  {
   "cell_type": "code",
   "execution_count": 45,
   "metadata": {},
   "outputs": [
    {
     "data": {
      "text/html": [
       "<div>\n",
       "<style scoped>\n",
       "    .dataframe tbody tr th:only-of-type {\n",
       "        vertical-align: middle;\n",
       "    }\n",
       "\n",
       "    .dataframe tbody tr th {\n",
       "        vertical-align: top;\n",
       "    }\n",
       "\n",
       "    .dataframe thead th {\n",
       "        text-align: right;\n",
       "    }\n",
       "</style>\n",
       "<table border=\"1\" class=\"dataframe\">\n",
       "  <thead>\n",
       "    <tr style=\"text-align: right;\">\n",
       "      <th></th>\n",
       "      <th>GRMAR</th>\n",
       "      <th>PRICE</th>\n",
       "      <th>PROFIT PER UNIT</th>\n",
       "    </tr>\n",
       "  </thead>\n",
       "  <tbody>\n",
       "    <tr>\n",
       "      <th>0</th>\n",
       "      <td>0.387002</td>\n",
       "      <td>0.025111</td>\n",
       "      <td>0.621941</td>\n",
       "    </tr>\n",
       "    <tr>\n",
       "      <th>1</th>\n",
       "      <td>0.283472</td>\n",
       "      <td>0.025791</td>\n",
       "      <td>0.467905</td>\n",
       "    </tr>\n",
       "    <tr>\n",
       "      <th>2</th>\n",
       "      <td>0.365753</td>\n",
       "      <td>0.028392</td>\n",
       "      <td>0.664604</td>\n",
       "    </tr>\n",
       "    <tr>\n",
       "      <th>3</th>\n",
       "      <td>0.563049</td>\n",
       "      <td>0.024614</td>\n",
       "      <td>0.886985</td>\n",
       "    </tr>\n",
       "    <tr>\n",
       "      <th>4</th>\n",
       "      <td>0.546970</td>\n",
       "      <td>0.016569</td>\n",
       "      <td>0.580012</td>\n",
       "    </tr>\n",
       "    <tr>\n",
       "      <th>...</th>\n",
       "      <td>...</td>\n",
       "      <td>...</td>\n",
       "      <td>...</td>\n",
       "    </tr>\n",
       "    <tr>\n",
       "      <th>9995</th>\n",
       "      <td>0.384156</td>\n",
       "      <td>0.031434</td>\n",
       "      <td>0.772836</td>\n",
       "    </tr>\n",
       "    <tr>\n",
       "      <th>9996</th>\n",
       "      <td>0.262672</td>\n",
       "      <td>0.027987</td>\n",
       "      <td>0.470482</td>\n",
       "    </tr>\n",
       "    <tr>\n",
       "      <th>9997</th>\n",
       "      <td>0.479314</td>\n",
       "      <td>0.025510</td>\n",
       "      <td>0.782549</td>\n",
       "    </tr>\n",
       "    <tr>\n",
       "      <th>9998</th>\n",
       "      <td>0.212166</td>\n",
       "      <td>0.029085</td>\n",
       "      <td>0.394939</td>\n",
       "    </tr>\n",
       "    <tr>\n",
       "      <th>9999</th>\n",
       "      <td>0.262995</td>\n",
       "      <td>0.027456</td>\n",
       "      <td>0.462130</td>\n",
       "    </tr>\n",
       "  </tbody>\n",
       "</table>\n",
       "<p>10000 rows × 3 columns</p>\n",
       "</div>"
      ],
      "text/plain": [
       "         GRMAR     PRICE  PROFIT PER UNIT\n",
       "0     0.387002  0.025111         0.621941\n",
       "1     0.283472  0.025791         0.467905\n",
       "2     0.365753  0.028392         0.664604\n",
       "3     0.563049  0.024614         0.886985\n",
       "4     0.546970  0.016569         0.580012\n",
       "...        ...       ...              ...\n",
       "9995  0.384156  0.031434         0.772836\n",
       "9996  0.262672  0.027987         0.470482\n",
       "9997  0.479314  0.025510         0.782549\n",
       "9998  0.212166  0.029085         0.394939\n",
       "9999  0.262995  0.027456         0.462130\n",
       "\n",
       "[10000 rows x 3 columns]"
      ]
     },
     "execution_count": 45,
     "metadata": {},
     "output_type": "execute_result"
    }
   ],
   "source": [
    "# Product 5\n",
    "#adding to a dataframe\n",
    "results_df_5 = pd.DataFrame.from_records(all_stats_5, columns = ['GRMAR', 'PRICE', 'PROFIT PER UNIT'])\n",
    "\n",
    "#printing results\n",
    "results_df_5"
   ]
  },
  {
   "cell_type": "code",
   "execution_count": 46,
   "metadata": {},
   "outputs": [
    {
     "data": {
      "text/plain": [
       "<AxesSubplot:title={'center':'PROFIT PER UNIT'}, ylabel='Frequency'>"
      ]
     },
     "execution_count": 46,
     "metadata": {},
     "output_type": "execute_result"
    },
    {
     "data": {
      "image/png": "[encoded data removed]",
      "text/plain": [
       "<Figure size 432x288 with 1 Axes>"
      ]
     },
     "metadata": {
      "needs_background": "light"
     },
     "output_type": "display_data"
    }
   ],
   "source": [
    "# Product 1\n",
    "# Plotting a histogram for profits\n",
    "\n",
    "results_df_1['PROFIT PER UNIT'].plot(kind = \"hist\", title = 'PROFIT PER UNIT')\n",
    "\n",
    "\n"
   ]
  },
  {
   "cell_type": "code",
   "execution_count": 47,
   "metadata": {},
   "outputs": [
    {
     "data": {
      "text/plain": [
       "<AxesSubplot:title={'center':'PRICE/OZ'}, ylabel='Frequency'>"
      ]
     },
     "execution_count": 47,
     "metadata": {},
     "output_type": "execute_result"
    },
    {
     "data": {
      "image/png": "[encoded data removed]",
      "text/plain": [
       "<Figure size 432x288 with 1 Axes>"
      ]
     },
     "metadata": {
      "needs_background": "light"
     },
     "output_type": "display_data"
    }
   ],
   "source": [
    "# Product 1\n",
    "# Plotting a histogram for independent price\n",
    "\n",
    "results_df_1['PRICE'].plot(kind = \"hist\", title = 'PRICE/OZ')\n",
    "\n",
    "\n",
    "\n"
   ]
  },
  {
   "cell_type": "code",
   "execution_count": 48,
   "metadata": {},
   "outputs": [
    {
     "data": {
      "text/plain": [
       "<AxesSubplot:title={'center':'PROFIT PER UNIT'}, ylabel='Frequency'>"
      ]
     },
     "execution_count": 48,
     "metadata": {},
     "output_type": "execute_result"
    },
    {
     "data": {
      "image/png": "[encoded data removed]",
      "text/plain": [
       "<Figure size 432x288 with 1 Axes>"
      ]
     },
     "metadata": {
      "needs_background": "light"
     },
     "output_type": "display_data"
    }
   ],
   "source": [
    "# Product 2\n",
    "# Plotting a histogram for profits\n",
    "\n",
    "results_df_2['PROFIT PER UNIT'].plot(kind = \"hist\", title = 'PROFIT PER UNIT')"
   ]
  },
  {
   "cell_type": "code",
   "execution_count": 49,
   "metadata": {},
   "outputs": [
    {
     "data": {
      "text/plain": [
       "<AxesSubplot:title={'center':'PRICE/OZ'}, ylabel='Frequency'>"
      ]
     },
     "execution_count": 49,
     "metadata": {},
     "output_type": "execute_result"
    },
    {
     "data": {
      "image/png": "[encoded data removed]",
      "text/plain": [
       "<Figure size 432x288 with 1 Axes>"
      ]
     },
     "metadata": {
      "needs_background": "light"
     },
     "output_type": "display_data"
    }
   ],
   "source": [
    "# Product 2\n",
    "# Plotting a histogram for independent price\n",
    "\n",
    "results_df_2['PRICE'].plot(kind = \"hist\", title = 'PRICE/OZ')\n",
    "\n"
   ]
  },
  {
   "cell_type": "code",
   "execution_count": 50,
   "metadata": {},
   "outputs": [
    {
     "data": {
      "text/plain": [
       "<AxesSubplot:title={'center':'PROFIT PER UNIT'}, ylabel='Frequency'>"
      ]
     },
     "execution_count": 50,
     "metadata": {},
     "output_type": "execute_result"
    },
    {
     "data": {
      "image/png": "[encoded data removed]",
      "text/plain": [
       "<Figure size 432x288 with 1 Axes>"
      ]
     },
     "metadata": {
      "needs_background": "light"
     },
     "output_type": "display_data"
    }
   ],
   "source": [
    "# Product 3\n",
    "# Plotting a histogram for profits\n",
    "\n",
    "results_df_3['PROFIT PER UNIT'].plot(kind = \"hist\", title = 'PROFIT PER UNIT')"
   ]
  },
  {
   "cell_type": "code",
   "execution_count": 51,
   "metadata": {},
   "outputs": [
    {
     "data": {
      "text/plain": [
       "<AxesSubplot:title={'center':'PRICE/OZ'}, ylabel='Frequency'>"
      ]
     },
     "execution_count": 51,
     "metadata": {},
     "output_type": "execute_result"
    },
    {
     "data": {
      "image/png": "[encoded data removed]",
      "text/plain": [
       "<Figure size 432x288 with 1 Axes>"
      ]
     },
     "metadata": {
      "needs_background": "light"
     },
     "output_type": "display_data"
    }
   ],
   "source": [
    "# Product 3\n",
    "# Plotting a histogram for independent price\n",
    "\n",
    "results_df_3['PRICE'].plot(kind = \"hist\", title = 'PRICE/OZ')\n",
    "\n"
   ]
  },
  {
   "cell_type": "code",
   "execution_count": 52,
   "metadata": {},
   "outputs": [
    {
     "data": {
      "text/plain": [
       "<AxesSubplot:title={'center':'PROFIT PER UNIT'}, ylabel='Frequency'>"
      ]
     },
     "execution_count": 52,
     "metadata": {},
     "output_type": "execute_result"
    },
    {
     "data": {
      "image/png": "[encoded data removed]",
      "text/plain": [
       "<Figure size 432x288 with 1 Axes>"
      ]
     },
     "metadata": {
      "needs_background": "light"
     },
     "output_type": "display_data"
    }
   ],
   "source": [
    "# Product 4\n",
    "# Plotting a histogram for profits\n",
    "\n",
    "results_df_4['PROFIT PER UNIT'].plot(kind = \"hist\", title = 'PROFIT PER UNIT')"
   ]
  },
  {
   "cell_type": "code",
   "execution_count": 53,
   "metadata": {},
   "outputs": [
    {
     "data": {
      "text/plain": [
       "<AxesSubplot:title={'center':'PRICE/OZ'}, ylabel='Frequency'>"
      ]
     },
     "execution_count": 53,
     "metadata": {},
     "output_type": "execute_result"
    },
    {
     "data": {
      "image/png": "[encoded data removed]",
      "text/plain": [
       "<Figure size 432x288 with 1 Axes>"
      ]
     },
     "metadata": {
      "needs_background": "light"
     },
     "output_type": "display_data"
    }
   ],
   "source": [
    "# Product 4\n",
    "# Plotting a histogram for independent price\n",
    "\n",
    "results_df_4['PRICE'].plot(kind = \"hist\", title = 'PRICE/OZ')\n",
    "\n"
   ]
  },
  {
   "cell_type": "code",
   "execution_count": 54,
   "metadata": {},
   "outputs": [
    {
     "data": {
      "text/plain": [
       "<AxesSubplot:title={'center':'PROFIT PER UNIT'}, ylabel='Frequency'>"
      ]
     },
     "execution_count": 54,
     "metadata": {},
     "output_type": "execute_result"
    },
    {
     "data": {
      "image/png": "[encoded data removed]",
      "text/plain": [
       "<Figure size 432x288 with 1 Axes>"
      ]
     },
     "metadata": {
      "needs_background": "light"
     },
     "output_type": "display_data"
    }
   ],
   "source": [
    "# Product 5\n",
    "# Plotting a histogram for profits\n",
    "\n",
    "results_df_5['PROFIT PER UNIT'].plot(kind = \"hist\", title = 'PROFIT PER UNIT')"
   ]
  },
  {
   "cell_type": "code",
   "execution_count": 55,
   "metadata": {},
   "outputs": [
    {
     "data": {
      "text/plain": [
       "<AxesSubplot:title={'center':'PRICE/OZ'}, ylabel='Frequency'>"
      ]
     },
     "execution_count": 55,
     "metadata": {},
     "output_type": "execute_result"
    },
    {
     "data": {
      "image/png": "[encoded data removed]",
      "text/plain": [
       "<Figure size 432x288 with 1 Axes>"
      ]
     },
     "metadata": {
      "needs_background": "light"
     },
     "output_type": "display_data"
    }
   ],
   "source": [
    "# Product 5\n",
    "# Plotting a histogram for independent price\n",
    "\n",
    "results_df_5['PRICE'].plot(kind = \"hist\", title = 'PRICE/OZ')\n",
    "\n"
   ]
  },
  {
   "cell_type": "code",
   "execution_count": 56,
   "metadata": {},
   "outputs": [
    {
     "name": "stdout",
     "output_type": "stream",
     "text": [
      "           GRMAR      PRICE  PROFIT PER UNIT\n",
      "count  10000.000  10000.000        10000.000\n",
      "mean       0.280      0.045            0.812\n",
      "std        0.124      0.009            0.398\n",
      "min       -0.202      0.013           -0.686\n",
      "25%        0.197      0.040            0.536\n",
      "50%        0.280      0.045            0.786\n",
      "75%        0.364      0.051            1.068\n",
      "max        0.694      0.084            2.833\n"
     ]
    }
   ],
   "source": [
    "# Product 1\n",
    "#describing the information\n",
    "\n",
    "print(results_df_1.describe().round(3))"
   ]
  },
  {
   "cell_type": "code",
   "execution_count": 57,
   "metadata": {},
   "outputs": [
    {
     "name": "stdout",
     "output_type": "stream",
     "text": [
      "           GRMAR      PRICE  PROFIT PER UNIT\n",
      "count  10000.000  10000.000        10000.000\n",
      "mean       0.285      0.050            1.368\n",
      "std        0.063      0.006            0.344\n",
      "min        0.056      0.024            0.256\n",
      "25%        0.242      0.046            1.130\n",
      "50%        0.286      0.050            1.352\n",
      "75%        0.328      0.054            1.587\n",
      "max        0.519      0.069            2.797\n"
     ]
    }
   ],
   "source": [
    "# Product 2\n",
    "#describing the information\n",
    "\n",
    "print(results_df_2.describe().round(3))"
   ]
  },
  {
   "cell_type": "code",
   "execution_count": 58,
   "metadata": {},
   "outputs": [
    {
     "name": "stdout",
     "output_type": "stream",
     "text": [
      "           GRMAR      PRICE  PROFIT PER UNIT\n",
      "count  10000.000  10000.000        10000.000\n",
      "mean       0.297      0.036            0.681\n",
      "std        0.114      0.006            0.289\n",
      "min       -0.195      0.010           -0.298\n",
      "25%        0.221      0.032            0.484\n",
      "50%        0.296      0.036            0.667\n",
      "75%        0.374      0.040            0.859\n",
      "max        0.697      0.060            2.429\n"
     ]
    }
   ],
   "source": [
    "# Product 3\n",
    "#describing the information\n",
    "\n",
    "print(results_df_3.describe().round(3))"
   ]
  },
  {
   "cell_type": "code",
   "execution_count": 59,
   "metadata": {},
   "outputs": [
    {
     "name": "stdout",
     "output_type": "stream",
     "text": [
      "           GRMAR      PRICE  PROFIT PER UNIT\n",
      "count  10000.000  10000.000        10000.000\n",
      "mean       0.254      0.035            0.576\n",
      "std        0.111      0.006            0.276\n",
      "min       -0.238      0.013           -0.482\n",
      "25%        0.179      0.031            0.388\n",
      "50%        0.255      0.035            0.559\n",
      "75%        0.328      0.040            0.749\n",
      "max        0.650      0.058            1.988\n"
     ]
    }
   ],
   "source": [
    "# Product 4\n",
    "#describing the information\n",
    "\n",
    "print(results_df_4.describe().round(3))"
   ]
  },
  {
   "cell_type": "code",
   "execution_count": 60,
   "metadata": {},
   "outputs": [
    {
     "name": "stdout",
     "output_type": "stream",
     "text": [
      "           GRMAR      PRICE  PROFIT PER UNIT\n",
      "count  10000.000  10000.000        10000.000\n",
      "mean       0.293      0.027            0.502\n",
      "std        0.143      0.006            0.272\n",
      "min       -0.230      0.006           -0.458\n",
      "25%        0.197      0.023            0.314\n",
      "50%        0.291      0.027            0.479\n",
      "75%        0.389      0.030            0.667\n",
      "max        0.836      0.048            1.900\n"
     ]
    }
   ],
   "source": [
    "# Product 5\n",
    "#describing the information\n",
    "\n",
    "print(results_df_5.describe().round(3))"
   ]
  },
  {
   "cell_type": "code",
   "execution_count": null,
   "metadata": {},
   "outputs": [],
   "source": []
  },
  {
   "cell_type": "code",
   "execution_count": 61,
   "metadata": {},
   "outputs": [],
   "source": [
    "#So far we have simulated 10 000 scenarios that have estimated the optimal profit and the optimal \n",
    "#price per ounce. This simulations do not take into consideration other products' effect and therefore\n",
    "#we will do more analysis"
   ]
  },
  {
   "cell_type": "code",
   "execution_count": null,
   "metadata": {},
   "outputs": [],
   "source": []
  },
  {
   "cell_type": "code",
   "execution_count": 62,
   "metadata": {},
   "outputs": [
    {
     "name": "stdout",
     "output_type": "stream",
     "text": [
      "Fraction Losses = 0.013\n"
     ]
    }
   ],
   "source": [
    "# Product 1\n",
    "# Compute fraction where losses occur\n",
    "print('Fraction Losses =',(results_df_1['PROFIT PER UNIT'] < 0).sum()/number_sims)"
   ]
  },
  {
   "cell_type": "code",
   "execution_count": 63,
   "metadata": {},
   "outputs": [
    {
     "name": "stdout",
     "output_type": "stream",
     "text": [
      "Fraction Losses = 0.0\n"
     ]
    }
   ],
   "source": [
    "# Product 2\n",
    "# Compute fraction where losses occur\n",
    "print('Fraction Losses =',(results_df_2['PROFIT PER UNIT'] < 0).sum()/number_sims)"
   ]
  },
  {
   "cell_type": "code",
   "execution_count": 64,
   "metadata": {},
   "outputs": [
    {
     "name": "stdout",
     "output_type": "stream",
     "text": [
      "Fraction Losses = 0.0054\n"
     ]
    }
   ],
   "source": [
    "# Product 3\n",
    "# Compute fraction where losses occur\n",
    "print('Fraction Losses =',(results_df_3['PROFIT PER UNIT'] < 0).sum()/number_sims)"
   ]
  },
  {
   "cell_type": "code",
   "execution_count": 65,
   "metadata": {},
   "outputs": [
    {
     "name": "stdout",
     "output_type": "stream",
     "text": [
      "Fraction Losses = 0.0108\n"
     ]
    }
   ],
   "source": [
    "# Product 4\n",
    "# Compute fraction where losses occur\n",
    "print('Fraction Losses =',(results_df_4['PROFIT PER UNIT'] < 0).sum()/number_sims)"
   ]
  },
  {
   "cell_type": "code",
   "execution_count": 66,
   "metadata": {},
   "outputs": [
    {
     "name": "stdout",
     "output_type": "stream",
     "text": [
      "Fraction Losses = 0.0198\n"
     ]
    }
   ],
   "source": [
    "# Product 5\n",
    "# Compute fraction where losses occur\n",
    "print('Fraction Losses =',(results_df_5['PROFIT PER UNIT'] < 0).sum()/number_sims)"
   ]
  },
  {
   "cell_type": "code",
   "execution_count": 67,
   "metadata": {},
   "outputs": [
    {
     "name": "stdout",
     "output_type": "stream",
     "text": [
      "                            OLS Regression Results                            \n",
      "==============================================================================\n",
      "Dep. Variable:             log_sales1   R-squared:                       0.775\n",
      "Model:                            OLS   Adj. R-squared:                  0.771\n",
      "Method:                 Least Squares   F-statistic:                     194.6\n",
      "Date:                Sun, 04 Apr 2021   Prob (F-statistic):           2.52e-37\n",
      "Time:                        17:29:25   Log-Likelihood:                -44.706\n",
      "No. Observations:                 116   AIC:                             95.41\n",
      "Df Residuals:                     113   BIC:                             103.7\n",
      "Df Model:                           2                                         \n",
      "Covariance Type:            nonrobust                                         \n",
      "==============================================================================\n",
      "                 coef    std err          t      P>|t|      [0.025      0.975]\n",
      "------------------------------------------------------------------------------\n",
      "Intercept      1.4836      0.545      2.721      0.008       0.403       2.564\n",
      "log_price1    -2.5370      0.177    -14.351      0.000      -2.887      -2.187\n",
      "feat1          0.6546      0.096      6.792      0.000       0.464       0.846\n",
      "==============================================================================\n",
      "Omnibus:                        4.780   Durbin-Watson:                   1.632\n",
      "Prob(Omnibus):                  0.092   Jarque-Bera (JB):                6.414\n",
      "Skew:                           0.081   Prob(JB):                       0.0405\n",
      "Kurtosis:                       4.140   Cond. No.                         56.3\n",
      "==============================================================================\n",
      "\n",
      "Warnings:\n",
      "[1] Standard Errors assume that the covariance matrix of the errors is correctly specified.\n"
     ]
    }
   ],
   "source": [
    "#Product 1\n",
    "# Step 1: build a model\n",
    "\n",
    "# 'week','sales1','price1','disp1','feat1','grmar1'\n",
    "\n",
    "lm_best = smf.ols(formula =  \"\"\"log_sales1~  log_price1+ feat1 \n",
    "                                            \"\"\",\n",
    "                                data = data)\n",
    "\n",
    "\n",
    "# Step 2: fit the model based on the data\n",
    "results = lm_best.fit()\n",
    "\n",
    "\n",
    "\n",
    "# Step 3: analyze the summary output\n",
    "print(results.summary())"
   ]
  },
  {
   "cell_type": "code",
   "execution_count": 68,
   "metadata": {},
   "outputs": [
    {
     "name": "stdout",
     "output_type": "stream",
     "text": [
      "                            OLS Regression Results                            \n",
      "==============================================================================\n",
      "Dep. Variable:             log_sales2   R-squared:                       0.515\n",
      "Model:                            OLS   Adj. R-squared:                  0.507\n",
      "Method:                 Least Squares   F-statistic:                     60.08\n",
      "Date:                Sun, 04 Apr 2021   Prob (F-statistic):           1.69e-18\n",
      "Time:                        17:29:25   Log-Likelihood:                 5.9225\n",
      "No. Observations:                 116   AIC:                            -5.845\n",
      "Df Residuals:                     113   BIC:                             2.416\n",
      "Df Model:                           2                                         \n",
      "Covariance Type:            nonrobust                                         \n",
      "==============================================================================\n",
      "                 coef    std err          t      P>|t|      [0.025      0.975]\n",
      "------------------------------------------------------------------------------\n",
      "Intercept      4.9627      0.599      8.288      0.000       3.776       6.149\n",
      "log_price2    -1.4344      0.200     -7.158      0.000      -1.831      -1.037\n",
      "feat2          0.3578      0.069      5.182      0.000       0.221       0.495\n",
      "==============================================================================\n",
      "Omnibus:                        2.010   Durbin-Watson:                   1.371\n",
      "Prob(Omnibus):                  0.366   Jarque-Bera (JB):                1.567\n",
      "Skew:                           0.114   Prob(JB):                        0.457\n",
      "Kurtosis:                       3.522   Cond. No.                         92.6\n",
      "==============================================================================\n",
      "\n",
      "Warnings:\n",
      "[1] Standard Errors assume that the covariance matrix of the errors is correctly specified.\n"
     ]
    }
   ],
   "source": [
    "# Product 2\n",
    "# Step 1: build a model\n",
    "lm_best = smf.ols(formula =  \"\"\"log_sales2~ log_price2 + feat2 \n",
    "                                            \"\"\",\n",
    "                                data = data)\n",
    "\n",
    "\n",
    "# Step 2: fit the model based on the data\n",
    "results = lm_best.fit()\n",
    "\n",
    "\n",
    "\n",
    "# Step 3: analyze the summary output\n",
    "print(results.summary())"
   ]
  },
  {
   "cell_type": "code",
   "execution_count": 69,
   "metadata": {},
   "outputs": [
    {
     "name": "stdout",
     "output_type": "stream",
     "text": [
      "                            OLS Regression Results                            \n",
      "==============================================================================\n",
      "Dep. Variable:             log_sales3   R-squared:                       0.613\n",
      "Model:                            OLS   Adj. R-squared:                  0.606\n",
      "Method:                 Least Squares   F-statistic:                     89.41\n",
      "Date:                Sun, 04 Apr 2021   Prob (F-statistic):           5.24e-24\n",
      "Time:                        17:29:26   Log-Likelihood:                -144.12\n",
      "No. Observations:                 116   AIC:                             294.2\n",
      "Df Residuals:                     113   BIC:                             302.5\n",
      "Df Model:                           2                                         \n",
      "Covariance Type:            nonrobust                                         \n",
      "==============================================================================\n",
      "                 coef    std err          t      P>|t|      [0.025      0.975]\n",
      "------------------------------------------------------------------------------\n",
      "Intercept     -5.0843      1.504     -3.380      0.001      -8.064      -2.104\n",
      "log_price3    -3.9859      0.455     -8.766      0.000      -4.887      -3.085\n",
      "feat3          1.2118      0.177      6.851      0.000       0.861       1.562\n",
      "==============================================================================\n",
      "Omnibus:                        7.502   Durbin-Watson:                   1.495\n",
      "Prob(Omnibus):                  0.023   Jarque-Bera (JB):                8.803\n",
      "Skew:                           0.386   Prob(JB):                       0.0123\n",
      "Kurtosis:                       4.108   Cond. No.                         69.9\n",
      "==============================================================================\n",
      "\n",
      "Warnings:\n",
      "[1] Standard Errors assume that the covariance matrix of the errors is correctly specified.\n"
     ]
    }
   ],
   "source": [
    "# Product 3\n",
    "# Step 1: build a model\n",
    "lm_best = smf.ols(formula =  \"\"\"log_sales3~ log_price3 + feat3 \n",
    "                                            \"\"\",\n",
    "                                data = data)\n",
    "\n",
    "\n",
    "# Step 2: fit the model based on the data\n",
    "results = lm_best.fit()\n",
    "\n",
    "\n",
    "\n",
    "# Step 3: analyze the summary output\n",
    "print(results.summary())"
   ]
  },
  {
   "cell_type": "code",
   "execution_count": 70,
   "metadata": {},
   "outputs": [
    {
     "name": "stdout",
     "output_type": "stream",
     "text": [
      "                            OLS Regression Results                            \n",
      "==============================================================================\n",
      "Dep. Variable:             log_sales4   R-squared:                       0.703\n",
      "Model:                            OLS   Adj. R-squared:                  0.698\n",
      "Method:                 Least Squares   F-statistic:                     133.7\n",
      "Date:                Sun, 04 Apr 2021   Prob (F-statistic):           1.65e-30\n",
      "Time:                        17:29:26   Log-Likelihood:                -85.036\n",
      "No. Observations:                 116   AIC:                             176.1\n",
      "Df Residuals:                     113   BIC:                             184.3\n",
      "Df Model:                           2                                         \n",
      "Covariance Type:            nonrobust                                         \n",
      "==============================================================================\n",
      "                 coef    std err          t      P>|t|      [0.025      0.975]\n",
      "------------------------------------------------------------------------------\n",
      "Intercept      1.0327      0.990      1.043      0.299      -0.929       2.995\n",
      "log_price4    -2.3681      0.299     -7.932      0.000      -2.960      -1.777\n",
      "feat4          1.1511      0.117      9.815      0.000       0.919       1.383\n",
      "==============================================================================\n",
      "Omnibus:                       21.180   Durbin-Watson:                   1.678\n",
      "Prob(Omnibus):                  0.000   Jarque-Bera (JB):               36.050\n",
      "Skew:                           0.812   Prob(JB):                     1.49e-08\n",
      "Kurtosis:                       5.196   Cond. No.                         76.8\n",
      "==============================================================================\n",
      "\n",
      "Warnings:\n",
      "[1] Standard Errors assume that the covariance matrix of the errors is correctly specified.\n"
     ]
    }
   ],
   "source": [
    "# Product 4\n",
    "# Step 1: build a model\n",
    "lm_best = smf.ols(formula =  \"\"\"log_sales4~ log_price4  + feat4  \n",
    "                                            \"\"\",\n",
    "                                data = data)\n",
    "\n",
    "\n",
    "# Step 2: fit the model based on the data\n",
    "results = lm_best.fit()\n",
    "\n",
    "\n",
    "\n",
    "# Step 3: analyze the summary output\n",
    "print(results.summary())"
   ]
  },
  {
   "cell_type": "code",
   "execution_count": 71,
   "metadata": {},
   "outputs": [
    {
     "name": "stdout",
     "output_type": "stream",
     "text": [
      "                            OLS Regression Results                            \n",
      "==============================================================================\n",
      "Dep. Variable:             log_sales5   R-squared:                       0.598\n",
      "Model:                            OLS   Adj. R-squared:                  0.587\n",
      "Method:                 Least Squares   F-statistic:                     55.56\n",
      "Date:                Sun, 04 Apr 2021   Prob (F-statistic):           4.47e-22\n",
      "Time:                        17:29:26   Log-Likelihood:                -129.10\n",
      "No. Observations:                 116   AIC:                             266.2\n",
      "Df Residuals:                     112   BIC:                             277.2\n",
      "Df Model:                           3                                         \n",
      "Covariance Type:            nonrobust                                         \n",
      "==============================================================================\n",
      "                 coef    std err          t      P>|t|      [0.025      0.975]\n",
      "------------------------------------------------------------------------------\n",
      "Intercept     -3.1039      1.285     -2.415      0.017      -5.650      -0.557\n",
      "log_price5    -3.2337      0.363     -8.906      0.000      -3.953      -2.514\n",
      "feat5          0.7081      0.166      4.278      0.000       0.380       1.036\n",
      "disp5          0.2864      0.154      1.857      0.066      -0.019       0.592\n",
      "==============================================================================\n",
      "Omnibus:                        3.271   Durbin-Watson:                   1.541\n",
      "Prob(Omnibus):                  0.195   Jarque-Bera (JB):                3.489\n",
      "Skew:                          -0.069   Prob(JB):                        0.175\n",
      "Kurtosis:                       3.838   Cond. No.                         73.5\n",
      "==============================================================================\n",
      "\n",
      "Warnings:\n",
      "[1] Standard Errors assume that the covariance matrix of the errors is correctly specified.\n"
     ]
    }
   ],
   "source": [
    "# Product 5\n",
    "# Step 1: build a model\n",
    "lm_best = smf.ols(formula =  \"\"\"log_sales5~ log_price5 + feat5  + disp5 \n",
    "                                            \"\"\",\n",
    "                                data = data)\n",
    "\n",
    "\n",
    "# Step 2: fit the model based on the data\n",
    "results = lm_best.fit()\n",
    "\n",
    "\n",
    "\n",
    "# Step 3: analyze the summary output\n",
    "print(results.summary())"
   ]
  },
  {
   "cell_type": "code",
   "execution_count": 72,
   "metadata": {},
   "outputs": [
    {
     "data": {
      "text/plain": [
       "8.994756413737761"
      ]
     },
     "execution_count": 72,
     "metadata": {},
     "output_type": "execute_result"
    }
   ],
   "source": [
    "#this is to get the predictions from the regression for product 5\n",
    "estimates_wlog=results.predict()\n",
    "estimates_wlog_avg=estimates_wlog.mean()\n",
    "estimates_wlog_avg"
   ]
  },
  {
   "cell_type": "code",
   "execution_count": 73,
   "metadata": {},
   "outputs": [
    {
     "data": {
      "text/plain": [
       "8060.705911501714"
      ]
     },
     "execution_count": 73,
     "metadata": {},
     "output_type": "execute_result"
    }
   ],
   "source": [
    "# This is the estimate to put in monte carlo. for product 5\n",
    "\n",
    "estimates_avg= np.exp(estimates_wlog_avg)\n",
    "estimates_avg"
   ]
  },
  {
   "cell_type": "code",
   "execution_count": null,
   "metadata": {},
   "outputs": [],
   "source": []
  },
  {
   "cell_type": "code",
   "execution_count": 74,
   "metadata": {},
   "outputs": [],
   "source": [
    "#SO Far we  are  still looking at individual products and how they are\n",
    "#affected by their variables. Now we will focus on product 5 and the influence it gets \n",
    "#from other products"
   ]
  },
  {
   "cell_type": "code",
   "execution_count": null,
   "metadata": {},
   "outputs": [],
   "source": []
  },
  {
   "cell_type": "code",
   "execution_count": 75,
   "metadata": {},
   "outputs": [
    {
     "name": "stdout",
     "output_type": "stream",
     "text": [
      "                            OLS Regression Results                            \n",
      "==============================================================================\n",
      "Dep. Variable:             log_sales5   R-squared:                       0.692\n",
      "Model:                            OLS   Adj. R-squared:                  0.672\n",
      "Method:                 Least Squares   F-statistic:                     34.69\n",
      "Date:                Sun, 04 Apr 2021   Prob (F-statistic):           6.68e-25\n",
      "Time:                        17:29:26   Log-Likelihood:                -113.64\n",
      "No. Observations:                 116   AIC:                             243.3\n",
      "Df Residuals:                     108   BIC:                             265.3\n",
      "Df Model:                           7                                         \n",
      "Covariance Type:            nonrobust                                         \n",
      "==============================================================================\n",
      "                 coef    std err          t      P>|t|      [0.025      0.975]\n",
      "------------------------------------------------------------------------------\n",
      "Intercept     -6.1074      2.327     -2.624      0.010     -10.721      -1.494\n",
      "feat2         -0.6294      0.231     -2.728      0.007      -1.087      -0.172\n",
      "feat4          0.4650      0.216      2.154      0.033       0.037       0.893\n",
      "feat5          0.6118      0.151      4.043      0.000       0.312       0.912\n",
      "log_sales2     1.0381      0.238      4.368      0.000       0.567       1.509\n",
      "log_sales3    -0.1926      0.050     -3.879      0.000      -0.291      -0.094\n",
      "log_sales4    -0.4653      0.110     -4.229      0.000      -0.683      -0.247\n",
      "log_price5    -3.0797      0.306    -10.051      0.000      -3.687      -2.472\n",
      "==============================================================================\n",
      "Omnibus:                        1.535   Durbin-Watson:                   1.516\n",
      "Prob(Omnibus):                  0.464   Jarque-Bera (JB):                1.035\n",
      "Skew:                           0.164   Prob(JB):                        0.596\n",
      "Kurtosis:                       3.326   Cond. No.                         611.\n",
      "==============================================================================\n",
      "\n",
      "Warnings:\n",
      "[1] Standard Errors assume that the covariance matrix of the errors is correctly specified.\n"
     ]
    }
   ],
   "source": [
    "#Regression Complete 2\n",
    "# Step 1: build a model\n",
    "\n",
    "\n",
    "#log_sales5~  disp1 + disp2 + disp3 +\n",
    "                                #disp4 + disp5 + feat1 + feat2 + feat3 + \n",
    "                                #feat4 + feat5 + log_sales1 + \n",
    "                                #log_sales2 + log_sales3 + log_sales4 +\n",
    "                                #log_price1 + log_price2 + \n",
    "                                #log_price3 + log_price4 + log_price5 + \n",
    "                                #log_grmar1 + log_grmar2 + log_grmar3 +\n",
    "                                #log_grmar4 + log_grmar5\n",
    "\n",
    "\n",
    "lm_best = smf.ols(formula =  \"\"\"log_sales5~    \n",
    "                                feat2 +  \n",
    "                                feat4 + \n",
    "                                feat5 + \n",
    "                                log_sales2 +\n",
    "                                log_sales3 + \n",
    "                                log_sales4 +\n",
    "                                log_price5  \n",
    "                                \"\"\",\n",
    "                                data = data)\n",
    "\n",
    "\n",
    "# Step 2: fit the model based on the data\n",
    "results2 = lm_best.fit()\n",
    "\n",
    "\n",
    "\n",
    "# Step 3: analyze the summary output\n",
    "print(results2.summary())"
   ]
  },
  {
   "cell_type": "markdown",
   "metadata": {},
   "source": [
    "Insights from the regression:\n",
    "    - Feat in weekly brochure in product 2 will lower Dominick OJ sales\n",
    "    - Display bonus. tags for product 2 will increase sales 5\n",
    "    - Feat in brochure for Dominick OJ  will increase its sales\n",
    "     - increase of sales on Direct competition which is 4 and 3 will decrease sales.\n",
    "     - increase in sales of product 2 will drive up sales in product 5.\n",
    "    "
   ]
  },
  {
   "cell_type": "code",
   "execution_count": 76,
   "metadata": {},
   "outputs": [
    {
     "data": {
      "text/plain": [
       "8.994756413737793"
      ]
     },
     "execution_count": 76,
     "metadata": {},
     "output_type": "execute_result"
    }
   ],
   "source": [
    "#this is to get the predictions from the regression for product 5\n",
    "estimates_wlog2=results2.predict()\n",
    "estimates_wlog_avg2=estimates_wlog2.mean()\n",
    "estimates_wlog_avg2"
   ]
  },
  {
   "cell_type": "code",
   "execution_count": 77,
   "metadata": {},
   "outputs": [],
   "source": [
    "estimates_without_log = np.exp(estimates_wlog2)"
   ]
  },
  {
   "cell_type": "code",
   "execution_count": 78,
   "metadata": {},
   "outputs": [
    {
     "data": {
      "text/plain": [
       "8060.71"
      ]
     },
     "execution_count": 78,
     "metadata": {},
     "output_type": "execute_result"
    }
   ],
   "source": [
    "# This is the estimate to put in monte carlo. for product 5\n",
    "\n",
    "estimates_avg2= round(np.exp(estimates_wlog_avg2),2)\n",
    "estimates_avg2"
   ]
  },
  {
   "cell_type": "code",
   "execution_count": 79,
   "metadata": {},
   "outputs": [
    {
     "data": {
      "text/plain": [
       "14516.07"
      ]
     },
     "execution_count": 79,
     "metadata": {},
     "output_type": "execute_result"
    }
   ],
   "source": [
    "final_STD = round(estimates_without_log.std(),2)\n",
    "final_STD"
   ]
  },
  {
   "cell_type": "code",
   "execution_count": 80,
   "metadata": {},
   "outputs": [],
   "source": [
    "mean_with_log = results2.predict().mean()\n",
    "final_STD_with_log =  results2.predict().std()\n",
    "price_mean = np.exp(-2.8986)\n",
    "price_std = np.exp(0.331)\n",
    "grmar_mean= data.loc[:,'grmar5'].mean()\n",
    "grmar_std= data.loc[:,'grmar5'].std()"
   ]
  },
  {
   "cell_type": "code",
   "execution_count": 81,
   "metadata": {},
   "outputs": [],
   "source": [
    "#fix the random seed\n",
    "np.random.seed(42) \n",
    "number_sims2=10000\n"
   ]
  },
  {
   "cell_type": "code",
   "execution_count": 82,
   "metadata": {},
   "outputs": [
    {
     "name": "stdout",
     "output_type": "stream",
     "text": [
      "       Sales(Quantity)         Price         GRMAR       Profits\n",
      "count     10000.000000  10000.000000  10000.000000  1.000000e+04\n",
      "mean       7977.869627      0.058815      0.293188  7.522353e+03\n",
      "std       14570.860471      1.391449      0.140706  4.769594e+05\n",
      "min      -47918.704226     -5.286905     -0.262928 -6.368376e+06\n",
      "25%       -1950.146212     -0.897475      0.199335 -1.307814e+05\n",
      "50%        7982.744856      0.059944      0.294014  1.490946e+03\n",
      "75%       17850.378056      1.007802      0.387499  1.468039e+05\n",
      "max       73079.410524      5.195170      0.851568  3.937614e+06\n"
     ]
    }
   ],
   "source": [
    "final_result = [] # Save results from each sim here\n",
    "\n",
    "\n",
    "for i in range(number_sims):\n",
    "    sales_current = np.random.normal(estimates_avg2, final_STD)\n",
    "    price_current= np.random.normal(price_mean,price_std)\n",
    "    grmar_current = np.random.normal(grmar_mean,grmar_std)\n",
    "    \n",
    "    profits_current= sales_current* 64 * price_current * grmar_current\n",
    "    \n",
    "    final_result.append([sales_current, price_current, grmar_current,profits_current])\n",
    "    \n",
    "    \n",
    "    \n",
    "# Save results in the results dataframe\n",
    "results_df_FINAL = pd.DataFrame.from_records(final_result, columns=['Sales(Quantity)', 'Price', 'GRMAR','Profits'])\n",
    "\n",
    "\n",
    "\n",
    "# Describe the results\n",
    "print(results_df_FINAL.describe())"
   ]
  },
  {
   "cell_type": "code",
   "execution_count": 83,
   "metadata": {},
   "outputs": [
    {
     "data": {
      "text/plain": [
       "15358.896551724138"
      ]
     },
     "execution_count": 83,
     "metadata": {},
     "output_type": "execute_result"
    }
   ],
   "source": [
    "data['sales5'].mean()\n"
   ]
  },
  {
   "cell_type": "code",
   "execution_count": 84,
   "metadata": {},
   "outputs": [
    {
     "data": {
      "text/plain": [
       "4278.169095166881"
      ]
     },
     "execution_count": 84,
     "metadata": {},
     "output_type": "execute_result"
    }
   ],
   "source": [
    "profit=data['price5']*64*data['grmar5']\n",
    "7935*profit.mean()"
   ]
  },
  {
   "cell_type": "code",
   "execution_count": 85,
   "metadata": {},
   "outputs": [
    {
     "data": {
      "text/html": [
       "<div>\n",
       "<style scoped>\n",
       "    .dataframe tbody tr th:only-of-type {\n",
       "        vertical-align: middle;\n",
       "    }\n",
       "\n",
       "    .dataframe tbody tr th {\n",
       "        vertical-align: top;\n",
       "    }\n",
       "\n",
       "    .dataframe thead th {\n",
       "        text-align: right;\n",
       "    }\n",
       "</style>\n",
       "<table border=\"1\" class=\"dataframe\">\n",
       "  <thead>\n",
       "    <tr style=\"text-align: right;\">\n",
       "      <th></th>\n",
       "      <th>week</th>\n",
       "      <th>sales5</th>\n",
       "    </tr>\n",
       "  </thead>\n",
       "  <tbody>\n",
       "    <tr>\n",
       "      <th>0</th>\n",
       "      <td>40</td>\n",
       "      <td>2432</td>\n",
       "    </tr>\n",
       "    <tr>\n",
       "      <th>1</th>\n",
       "      <td>43</td>\n",
       "      <td>2112</td>\n",
       "    </tr>\n",
       "    <tr>\n",
       "      <th>2</th>\n",
       "      <td>44</td>\n",
       "      <td>896</td>\n",
       "    </tr>\n",
       "    <tr>\n",
       "      <th>3</th>\n",
       "      <td>45</td>\n",
       "      <td>1152</td>\n",
       "    </tr>\n",
       "    <tr>\n",
       "      <th>4</th>\n",
       "      <td>46</td>\n",
       "      <td>3072</td>\n",
       "    </tr>\n",
       "    <tr>\n",
       "      <th>...</th>\n",
       "      <td>...</td>\n",
       "      <td>...</td>\n",
       "    </tr>\n",
       "    <tr>\n",
       "      <th>111</th>\n",
       "      <td>156</td>\n",
       "      <td>2944</td>\n",
       "    </tr>\n",
       "    <tr>\n",
       "      <th>112</th>\n",
       "      <td>157</td>\n",
       "      <td>1536</td>\n",
       "    </tr>\n",
       "    <tr>\n",
       "      <th>113</th>\n",
       "      <td>158</td>\n",
       "      <td>4416</td>\n",
       "    </tr>\n",
       "    <tr>\n",
       "      <th>114</th>\n",
       "      <td>159</td>\n",
       "      <td>46080</td>\n",
       "    </tr>\n",
       "    <tr>\n",
       "      <th>115</th>\n",
       "      <td>160</td>\n",
       "      <td>5056</td>\n",
       "    </tr>\n",
       "  </tbody>\n",
       "</table>\n",
       "<p>116 rows × 2 columns</p>\n",
       "</div>"
      ],
      "text/plain": [
       "     week  sales5\n",
       "0      40    2432\n",
       "1      43    2112\n",
       "2      44     896\n",
       "3      45    1152\n",
       "4      46    3072\n",
       "..    ...     ...\n",
       "111   156    2944\n",
       "112   157    1536\n",
       "113   158    4416\n",
       "114   159   46080\n",
       "115   160    5056\n",
       "\n",
       "[116 rows x 2 columns]"
      ]
     },
     "execution_count": 85,
     "metadata": {},
     "output_type": "execute_result"
    }
   ],
   "source": [
    "data.loc[:,['week','sales5']]"
   ]
  },
  {
   "cell_type": "code",
   "execution_count": null,
   "metadata": {},
   "outputs": [],
   "source": [
    "defg= data['price3']*64\n",
    "defg.mean()"
   ]
  },
  {
   "cell_type": "code",
   "execution_count": null,
   "metadata": {},
   "outputs": [],
   "source": [
    "defz=data['price4']*64\n",
    "defz.mean()"
   ]
  },
  {
   "cell_type": "code",
   "execution_count": 87,
   "metadata": {
    "code_folding": []
   },
   "outputs": [
    {
     "data": {
      "image/png": "[encoded data removed]",
      "text/plain": [
       "<Figure size 432x288 with 1 Axes>"
      ]
     },
     "metadata": {
      "needs_background": "light"
     },
     "output_type": "display_data"
    }
   ],
   "source": [
    "# Q_stats = [] # store Q stats here\n",
    "\n",
    "# for Q in range(7000, 12000):\n",
    "\n",
    "#     final_result = [] # Save results from each sim here\n",
    "\n",
    "\n",
    "#     for i in range(number_sims2):\n",
    "#         sales_current = np.random.normal(estimates_avg2, final_STD)\n",
    "#         price_current= np.random.normal(price_mean,price_std)\n",
    "#         grmar_current = np.random.normal(grmar_mean,grmar_std)\n",
    "\n",
    "#         profits_current= sales_current* 64 * price_current * grmar_current\n",
    "\n",
    "#         final_result.append([sales_current, price_current, grmar_current,profits_current])\n",
    "\n",
    "\n",
    "\n",
    "#     # Save results in the results dataframe\n",
    "#     results_df_FINAL = pd.DataFrame.from_records(final_result, columns=['sales', 'Price', 'GRMAR','profits'])\n",
    "\n",
    "#     Q_stats.append([Q, results_df_FINAL['profits'].mean()])\n",
    "\n",
    "                                                 \n",
    "# Q_results_df = pd.DataFrame.from_records(Q_stats, columns=['Q', \\\n",
    "#                                'profits'])\n",
    "    \n",
    "# Q_results_df.plot.scatter(x=\"Q\", y=\"profits\");"
   ]
  },
  {
   "cell_type": "code",
   "execution_count": 88,
   "metadata": {},
   "outputs": [],
   "source": [
    "#\n",
    "#Homework approach\n",
    "\n",
    "#Transforming log\n",
    "\n",
    "data['log_sales5']= np.log(data['sales5'])\n",
    "data['log_price1']= np.log(data['price1'])\n",
    "data['log_price2']= np.log(data['price2'])\n",
    "data['log_price3']= np.log(data['price3'])\n",
    "data['log_price4']= np.log(data['price4'])\n",
    "data['log_price5']= np.log(data['price5'])\n",
    "fixed_grmar5 = data.loc[:,'grmar5'].mean()\n",
    "fixed_price1 = data.loc[:,'price1'].mean()\n",
    "fixed_price2 = data.loc[:,'price2'].mean()\n",
    "fixed_price3 = data.loc[:,'price3'].mean()\n",
    "fixed_price4 = data.loc[:,'price4'].mean()\n",
    "fixed_price5 = data.loc[:,'price5'].mean()\n",
    "log_fixed_price1= np.log(fixed_price1)\n",
    "log_fixed_price2= np.log(fixed_price2)\n",
    "log_fixed_price3= np.log(fixed_price3)\n",
    "log_fixed_price4= np.log(fixed_price4)\n",
    "log_fixed_price5= np.log(fixed_price5)"
   ]
  },
  {
   "cell_type": "code",
   "execution_count": 89,
   "metadata": {},
   "outputs": [
    {
     "name": "stdout",
     "output_type": "stream",
     "text": [
      "                            OLS Regression Results                            \n",
      "==============================================================================\n",
      "Dep. Variable:             log_sales5   R-squared:                       0.667\n",
      "Model:                            OLS   Adj. R-squared:                  0.649\n",
      "Method:                 Least Squares   F-statistic:                     36.39\n",
      "Date:                Sun, 04 Apr 2021   Prob (F-statistic):           6.66e-24\n",
      "Time:                        17:36:40   Log-Likelihood:                -118.19\n",
      "No. Observations:                 116   AIC:                             250.4\n",
      "Df Residuals:                     109   BIC:                             269.7\n",
      "Df Model:                           6                                         \n",
      "Covariance Type:            nonrobust                                         \n",
      "==============================================================================\n",
      "                 coef    std err          t      P>|t|      [0.025      0.975]\n",
      "------------------------------------------------------------------------------\n",
      "Intercept     -0.6726      2.141     -0.314      0.754      -4.915       3.570\n",
      "log_price2    -1.6261      0.595     -2.733      0.007      -2.806      -0.447\n",
      "log_price3     1.0544      0.364      2.900      0.005       0.334       1.775\n",
      "log_price4     1.1239      0.389      2.893      0.005       0.354       1.894\n",
      "log_price5    -3.2319      0.349     -9.272      0.000      -3.923      -2.541\n",
      "feat5          0.6610      0.154      4.291      0.000       0.356       0.966\n",
      "disp5          0.2854      0.143      1.999      0.048       0.002       0.568\n",
      "==============================================================================\n",
      "Omnibus:                        4.516   Durbin-Watson:                   1.680\n",
      "Prob(Omnibus):                  0.105   Jarque-Bera (JB):                4.471\n",
      "Skew:                          -0.274   Prob(JB):                        0.107\n",
      "Kurtosis:                       3.790   Cond. No.                         230.\n",
      "==============================================================================\n",
      "\n",
      "Warnings:\n",
      "[1] Standard Errors assume that the covariance matrix of the errors is correctly specified.\n"
     ]
    }
   ],
   "source": [
    "# Product 5\n",
    "# Step 1: build a model\n",
    "lm_best = smf.ols(formula =  \"\"\"log_sales5~ log_price2\n",
    "                        + log_price3+ log_price4+ log_price5 + feat5 \n",
    "                        + disp5 \n",
    "                                            \"\"\",\n",
    "                                data = data)\n",
    "\n",
    "\n",
    "# Step 2: fit the model based on the data\n",
    "results = lm_best.fit()\n",
    "\n",
    "\n",
    "\n",
    "# Step 3: analyze the summary output\n",
    "print(results.summary())"
   ]
  },
  {
   "cell_type": "code",
   "execution_count": 90,
   "metadata": {},
   "outputs": [],
   "source": [
    "# Intercept, lprice1, lprice2,...lprice4\n",
    "b0 = -0.6726 \n",
    "b2 = -1.6261\n",
    "b3=1.0544 \n",
    "b4=1.1239 \n",
    "b6=0.6610\n",
    "b7=0.2854\n",
    "\n",
    "#draw for b5\n",
    "b5_mean= -3.2319\n",
    "b5_sigma= 0.349\n",
    "\n",
    "min_price=min(data['log_price5'])\n",
    "max_price=max(data['log_price5'])\n",
    "min_grmar5=min(data['log_grmar5'])\n",
    "max_grmar5=max(data['log_grmar5'])"
   ]
  },
  {
   "cell_type": "code",
   "execution_count": 94,
   "metadata": {},
   "outputs": [
    {
     "name": "stdout",
     "output_type": "stream",
     "text": [
      "-4.1689334192131735\n",
      "-0.6226887169113839\n"
     ]
    }
   ],
   "source": [
    "print(min_price)\n",
    "print(max_grmar5)"
   ]
  },
  {
   "cell_type": "code",
   "execution_count": 91,
   "metadata": {},
   "outputs": [
    {
     "data": {
      "text/html": [
       "<div>\n",
       "<style scoped>\n",
       "    .dataframe tbody tr th:only-of-type {\n",
       "        vertical-align: middle;\n",
       "    }\n",
       "\n",
       "    .dataframe tbody tr th {\n",
       "        vertical-align: top;\n",
       "    }\n",
       "\n",
       "    .dataframe thead th {\n",
       "        text-align: right;\n",
       "    }\n",
       "</style>\n",
       "<table border=\"1\" class=\"dataframe\">\n",
       "  <thead>\n",
       "    <tr style=\"text-align: right;\">\n",
       "      <th></th>\n",
       "      <th>price/oz</th>\n",
       "      <th>sales</th>\n",
       "      <th>profits</th>\n",
       "    </tr>\n",
       "  </thead>\n",
       "  <tbody>\n",
       "    <tr>\n",
       "      <th>count</th>\n",
       "      <td>10000.000000</td>\n",
       "      <td>1.000000e+04</td>\n",
       "      <td>1.000000e+04</td>\n",
       "    </tr>\n",
       "    <tr>\n",
       "      <th>mean</th>\n",
       "      <td>0.025358</td>\n",
       "      <td>7.562383e+04</td>\n",
       "      <td>2.816111e+04</td>\n",
       "    </tr>\n",
       "    <tr>\n",
       "      <th>std</th>\n",
       "      <td>0.006713</td>\n",
       "      <td>3.365229e+05</td>\n",
       "      <td>1.078724e+05</td>\n",
       "    </tr>\n",
       "    <tr>\n",
       "      <th>min</th>\n",
       "      <td>0.015469</td>\n",
       "      <td>1.559165e+02</td>\n",
       "      <td>9.398134e+01</td>\n",
       "    </tr>\n",
       "    <tr>\n",
       "      <th>25%</th>\n",
       "      <td>0.019403</td>\n",
       "      <td>6.467769e+03</td>\n",
       "      <td>3.282157e+03</td>\n",
       "    </tr>\n",
       "    <tr>\n",
       "      <th>50%</th>\n",
       "      <td>0.024488</td>\n",
       "      <td>1.873289e+04</td>\n",
       "      <td>8.648230e+03</td>\n",
       "    </tr>\n",
       "    <tr>\n",
       "      <th>75%</th>\n",
       "      <td>0.030827</td>\n",
       "      <td>5.617890e+04</td>\n",
       "      <td>2.347747e+04</td>\n",
       "    </tr>\n",
       "    <tr>\n",
       "      <th>max</th>\n",
       "      <td>0.038902</td>\n",
       "      <td>2.311886e+07</td>\n",
       "      <td>7.174615e+06</td>\n",
       "    </tr>\n",
       "  </tbody>\n",
       "</table>\n",
       "</div>"
      ],
      "text/plain": [
       "           price/oz         sales       profits\n",
       "count  10000.000000  1.000000e+04  1.000000e+04\n",
       "mean       0.025358  7.562383e+04  2.816111e+04\n",
       "std        0.006713  3.365229e+05  1.078724e+05\n",
       "min        0.015469  1.559165e+02  9.398134e+01\n",
       "25%        0.019403  6.467769e+03  3.282157e+03\n",
       "50%        0.024488  1.873289e+04  8.648230e+03\n",
       "75%        0.030827  5.617890e+04  2.347747e+04\n",
       "max        0.038902  2.311886e+07  7.174615e+06"
      ]
     },
     "execution_count": 91,
     "metadata": {},
     "output_type": "execute_result"
    }
   ],
   "source": [
    "#fix the random seed\n",
    "np.random.seed(42) \n",
    "\n",
    "#set the number of simulations\n",
    "number_sims = 10_000\n",
    "\n",
    "all_stats = []\n",
    "for i in range(number_sims):\n",
    "    price5_curr = np.random.uniform(min_price,max_price)\n",
    "    b5_current = np.random.normal(b5_mean, b5_sigma)\n",
    "    sales5_current = b0  + b2*(log_fixed_price2) + b3*(log_fixed_price3) + \\\n",
    "        b4*(log_fixed_price4) + b5_current*(price5_curr) + b6 + b7\n",
    "    profits_current = np.exp(sales5_current) * 64 * fixed_grmar5 * np.exp(price5_curr)\n",
    "    all_stats.append([np.exp(price5_curr),np.exp(sales5_current), profits_current])\n",
    "\n",
    "# Save results in the results dataframe\n",
    "results_df = pd.DataFrame.from_records(all_stats, columns=['price/oz','sales', 'profits'])\n",
    "\n",
    "\n",
    "results_df.describe()\n",
    "\n"
   ]
  },
  {
   "cell_type": "code",
   "execution_count": 92,
   "metadata": {},
   "outputs": [
    {
     "name": "stdout",
     "output_type": "stream",
     "text": [
      "                            OLS Regression Results                            \n",
      "==============================================================================\n",
      "Dep. Variable:                 grmar5   R-squared:                       0.537\n",
      "Model:                            OLS   Adj. R-squared:                  0.533\n",
      "Method:                 Least Squares   F-statistic:                     132.4\n",
      "Date:                Sun, 04 Apr 2021   Prob (F-statistic):           8.42e-21\n",
      "Time:                        17:37:18   Log-Likelihood:                 107.27\n",
      "No. Observations:                 116   AIC:                            -210.5\n",
      "Df Residuals:                     114   BIC:                            -205.0\n",
      "Df Model:                           1                                         \n",
      "Covariance Type:            nonrobust                                         \n",
      "==============================================================================\n",
      "                 coef    std err          t      P>|t|      [0.025      0.975]\n",
      "------------------------------------------------------------------------------\n",
      "Intercept     -0.2007      0.044     -4.579      0.000      -0.288      -0.114\n",
      "price5        18.4315      1.602     11.506      0.000      15.258      21.605\n",
      "==============================================================================\n",
      "Omnibus:                        0.612   Durbin-Watson:                   0.695\n",
      "Prob(Omnibus):                  0.736   Jarque-Bera (JB):                0.528\n",
      "Skew:                          -0.164   Prob(JB):                        0.768\n",
      "Kurtosis:                       2.957   Cond. No.                         178.\n",
      "==============================================================================\n",
      "\n",
      "Warnings:\n",
      "[1] Standard Errors assume that the covariance matrix of the errors is correctly specified.\n"
     ]
    }
   ],
   "source": [
    "# Grmar 5\n",
    "# Step 1: build a model\n",
    "lm_best = smf.ols(formula =  \"\"\"grmar5~ price5     \"\"\",\n",
    "                                data = data)\n",
    "\n",
    "\n",
    "# Step 2: fit the model based on the data\n",
    "results_grmar5 = lm_best.fit()\n",
    "\n",
    "\n",
    "\n",
    "# Step 3: analyze the summary output\n",
    "print(results_grmar5.summary())"
   ]
  },
  {
   "cell_type": "code",
   "execution_count": 104,
   "metadata": {},
   "outputs": [
    {
     "data": {
      "image/png": "[encoded data removed]",
      "text/plain": [
       "<Figure size 432x288 with 1 Axes>"
      ]
     },
     "metadata": {
      "needs_background": "light"
     },
     "output_type": "display_data"
    }
   ],
   "source": [
    "#fix the random seed\n",
    "np.random.seed(42) \n",
    "\n",
    "#set the number of simulations\n",
    "number_sims = 10000\n",
    "\n",
    "price5_stats = []  # Save results from each sim here\n",
    "\n",
    "#Profit Formula: \n",
    "# Profits = Sales * 64 onz * Price * GRMAR\n",
    "# should there be a loop that goes over each week?\n",
    "\n",
    "\n",
    "\n",
    "for price5_curr in np.arange(min_price,max_price,0.001):\n",
    "\n",
    "    all_stats = []\n",
    "    for i in range(number_sims):\n",
    "        grmar5_current= np.exp(price5_curr)*18.4315-0.2007\n",
    "        b5_current = np.random.normal(b5_mean, b5_sigma)\n",
    "        sales5_current = b0 + b2*(log_fixed_price2) + b3*(log_fixed_price3) + \\\n",
    "            b4*(log_fixed_price4) + b5_current*(price5_curr) + b6 + b7\n",
    "        profits_current = np.exp(sales5_current) * 64 * grmar5_current * np.exp(price5_curr)\n",
    "        all_stats.append([np.exp(price5_curr),np.exp(sales5_current), profits_current,grmar_current])\n",
    "    \n",
    "    # Save results in the results dataframe\n",
    "    results_df = pd.DataFrame.from_records(all_stats, columns=['price/oz','sales', 'profits','grmar'])\n",
    "\n",
    "    price5_stats.append([np.exp(price5_curr), results_df['profits'].mean(),results_df['sales'].mean(),results_df['grmar'].mean()])\n",
    "\n",
    "price5_results_df = pd.DataFrame.from_records(price5_stats, columns=['price/oz','profits','sales','GRMAR'])\n",
    "    \n",
    "\n",
    "price5_results_df.plot.scatter(x=\"price/oz\", y=\"profits\",color='orange');"
   ]
  },
  {
   "cell_type": "code",
   "execution_count": 107,
   "metadata": {},
   "outputs": [
    {
     "data": {
      "image/png": "[encoded data removed]",
      "text/plain": [
       "<Figure size 432x288 with 1 Axes>"
      ]
     },
     "metadata": {
      "needs_background": "light"
     },
     "output_type": "display_data"
    }
   ],
   "source": [
    "price5_results_df.plot.scatter(x=\"GRMAR\", y=\"profits\",color='orange');"
   ]
  },
  {
   "cell_type": "code",
   "execution_count": 106,
   "metadata": {},
   "outputs": [
    {
     "data": {
      "text/html": [
       "<div>\n",
       "<style scoped>\n",
       "    .dataframe tbody tr th:only-of-type {\n",
       "        vertical-align: middle;\n",
       "    }\n",
       "\n",
       "    .dataframe tbody tr th {\n",
       "        vertical-align: top;\n",
       "    }\n",
       "\n",
       "    .dataframe thead th {\n",
       "        text-align: right;\n",
       "    }\n",
       "</style>\n",
       "<table border=\"1\" class=\"dataframe\">\n",
       "  <thead>\n",
       "    <tr style=\"text-align: right;\">\n",
       "      <th></th>\n",
       "      <th>price/oz</th>\n",
       "      <th>profits</th>\n",
       "      <th>sales</th>\n",
       "      <th>GRMAR</th>\n",
       "    </tr>\n",
       "  </thead>\n",
       "  <tbody>\n",
       "    <tr>\n",
       "      <th>count</th>\n",
       "      <td>923.000000</td>\n",
       "      <td>923.000000</td>\n",
       "      <td>923.000000</td>\n",
       "      <td>9.230000e+02</td>\n",
       "    </tr>\n",
       "    <tr>\n",
       "      <th>mean</th>\n",
       "      <td>0.025408</td>\n",
       "      <td>17075.854104</td>\n",
       "      <td>69871.044167</td>\n",
       "      <td>1.302314e-01</td>\n",
       "    </tr>\n",
       "    <tr>\n",
       "      <th>std</th>\n",
       "      <td>0.006726</td>\n",
       "      <td>3522.405964</td>\n",
       "      <td>63649.696449</td>\n",
       "      <td>1.083054e-15</td>\n",
       "    </tr>\n",
       "    <tr>\n",
       "      <th>min</th>\n",
       "      <td>0.015469</td>\n",
       "      <td>10335.747564</td>\n",
       "      <td>8063.784907</td>\n",
       "      <td>1.302314e-01</td>\n",
       "    </tr>\n",
       "    <tr>\n",
       "      <th>25%</th>\n",
       "      <td>0.019479</td>\n",
       "      <td>13913.174885</td>\n",
       "      <td>19192.491380</td>\n",
       "      <td>1.302314e-01</td>\n",
       "    </tr>\n",
       "    <tr>\n",
       "      <th>50%</th>\n",
       "      <td>0.024528</td>\n",
       "      <td>17539.878047</td>\n",
       "      <td>44328.321804</td>\n",
       "      <td>1.302314e-01</td>\n",
       "    </tr>\n",
       "    <tr>\n",
       "      <th>75%</th>\n",
       "      <td>0.030887</td>\n",
       "      <td>20468.060957</td>\n",
       "      <td>104613.537996</td>\n",
       "      <td>1.302314e-01</td>\n",
       "    </tr>\n",
       "    <tr>\n",
       "      <th>max</th>\n",
       "      <td>0.038893</td>\n",
       "      <td>23343.389439</td>\n",
       "      <td>252684.036023</td>\n",
       "      <td>1.302314e-01</td>\n",
       "    </tr>\n",
       "  </tbody>\n",
       "</table>\n",
       "</div>"
      ],
      "text/plain": [
       "         price/oz       profits          sales         GRMAR\n",
       "count  923.000000    923.000000     923.000000  9.230000e+02\n",
       "mean     0.025408  17075.854104   69871.044167  1.302314e-01\n",
       "std      0.006726   3522.405964   63649.696449  1.083054e-15\n",
       "min      0.015469  10335.747564    8063.784907  1.302314e-01\n",
       "25%      0.019479  13913.174885   19192.491380  1.302314e-01\n",
       "50%      0.024528  17539.878047   44328.321804  1.302314e-01\n",
       "75%      0.030887  20468.060957  104613.537996  1.302314e-01\n",
       "max      0.038893  23343.389439  252684.036023  1.302314e-01"
      ]
     },
     "execution_count": 106,
     "metadata": {},
     "output_type": "execute_result"
    }
   ],
   "source": [
    "price5_results_df.describe()"
   ]
  },
  {
   "cell_type": "code",
   "execution_count": 101,
   "metadata": {},
   "outputs": [
    {
     "data": {
      "text/plain": [
       "<AxesSubplot:title={'center':'Profits distribution'}, ylabel='Frequency'>"
      ]
     },
     "execution_count": 101,
     "metadata": {},
     "output_type": "execute_result"
    },
    {
     "data": {
      "image/png": "[encoded data removed]",
      "text/plain": [
       "<Figure size 432x288 with 1 Axes>"
      ]
     },
     "metadata": {
      "needs_background": "light"
     },
     "output_type": "display_data"
    }
   ],
   "source": [
    "price5_results_df['profits'].plot(kind='hist',title='Profits distribution')"
   ]
  },
  {
   "cell_type": "code",
   "execution_count": 102,
   "metadata": {},
   "outputs": [
    {
     "data": {
      "text/plain": [
       "<AxesSubplot:xlabel='log_profits', ylabel='Count'>"
      ]
     },
     "execution_count": 102,
     "metadata": {},
     "output_type": "execute_result"
    },
    {
     "data": {
      "image/png": "[encoded data removed]",
      "text/plain": [
       "<Figure size 432x288 with 1 Axes>"
      ]
     },
     "metadata": {
      "needs_background": "light"
     },
     "output_type": "display_data"
    }
   ],
   "source": [
    "price5_results_df['log_profits']=np.log(price5_results_df.loc[:,'profits'])\n",
    "# price5_results_df['log_profits'].plot(kind='hist',title='Price distribution')\n",
    "sns.histplot(x= 'log_profits',data=price5_results_df,kde=True, color = 'orange')"
   ]
  },
  {
   "cell_type": "code",
   "execution_count": 79,
   "metadata": {},
   "outputs": [
    {
     "data": {
      "image/png": "[encoded data removed]",
      "text/plain": [
       "<Figure size 432x288 with 1 Axes>"
      ]
     },
     "metadata": {
      "needs_background": "light"
     },
     "output_type": "display_data"
    }
   ],
   "source": [
    "#fix the random seed\n",
    "np.random.seed(42) \n",
    "\n",
    "#set the number of simulations\n",
    "number_sims = 10000\n",
    "\n",
    "grmar5_stats = []  # Save results from each sim here\n",
    "\n",
    "#Profit Formula: \n",
    "# Profits = Sales * 64 onz * Price * GRMAR\n",
    "# should there be a loop that goes over each week?\n",
    "\n",
    "\n",
    "for grmar5_curr in np.arange(min_grmar5,max_grmar5,0.001):\n",
    "\n",
    "    all_stats = []\n",
    "    for i in range(number_sims):\n",
    "        price5_curr = np.random.uniform(min_price,max_price)\n",
    "        b5_current = np.random.normal(b5_mean, b5_sigma)\n",
    "        sales5_current = b0 + b2*(log_fixed_price2) + b3*(log_fixed_price3) + \\\n",
    "            b4*(log_fixed_price4) + b5_current*(price5_curr) + b6 + b7\n",
    "        profits_current = np.exp(sales5_current) * 64 * np.exp(grmar5_curr) * np.exp(price5_curr)\n",
    "        all_stats.append([np.exp(grmar5_curr),np.exp(sales5_current), profits_current])\n",
    "    \n",
    "    # Save results in the results dataframe\n",
    "    results_df = pd.DataFrame.from_records(all_stats, columns=['grmar5','sales', 'profits'])\n",
    "\n",
    "    grmar5_stats.append([np.exp(grmar5_curr), results_df['profits'].mean()])\n",
    "\n",
    "grmar5_results_df = pd.DataFrame.from_records(grmar5_stats, columns=['grmar5','profits'])\n",
    "    \n",
    "\n",
    "grmar5_results_df.plot.scatter(x=\"grmar5\", y=\"profits\");"
   ]
  },
  {
   "cell_type": "code",
   "execution_count": 80,
   "metadata": {},
   "outputs": [
    {
     "data": {
      "text/html": [
       "<div>\n",
       "<style scoped>\n",
       "    .dataframe tbody tr th:only-of-type {\n",
       "        vertical-align: middle;\n",
       "    }\n",
       "\n",
       "    .dataframe tbody tr th {\n",
       "        vertical-align: top;\n",
       "    }\n",
       "\n",
       "    .dataframe thead th {\n",
       "        text-align: right;\n",
       "    }\n",
       "</style>\n",
       "<table border=\"1\" class=\"dataframe\">\n",
       "  <thead>\n",
       "    <tr style=\"text-align: right;\">\n",
       "      <th></th>\n",
       "      <th>grmar5</th>\n",
       "      <th>profits</th>\n",
       "    </tr>\n",
       "  </thead>\n",
       "  <tbody>\n",
       "    <tr>\n",
       "      <th>count</th>\n",
       "      <td>4244.000000</td>\n",
       "      <td>4244.000000</td>\n",
       "    </tr>\n",
       "    <tr>\n",
       "      <th>mean</th>\n",
       "      <td>0.124557</td>\n",
       "      <td>11193.136773</td>\n",
       "    </tr>\n",
       "    <tr>\n",
       "      <th>std</th>\n",
       "      <td>0.135536</td>\n",
       "      <td>12187.814216</td>\n",
       "    </tr>\n",
       "    <tr>\n",
       "      <th>min</th>\n",
       "      <td>0.007700</td>\n",
       "      <td>650.883921</td>\n",
       "    </tr>\n",
       "    <tr>\n",
       "      <th>25%</th>\n",
       "      <td>0.022242</td>\n",
       "      <td>1993.376433</td>\n",
       "    </tr>\n",
       "    <tr>\n",
       "      <th>50%</th>\n",
       "      <td>0.064246</td>\n",
       "      <td>5790.057805</td>\n",
       "    </tr>\n",
       "    <tr>\n",
       "      <th>75%</th>\n",
       "      <td>0.185577</td>\n",
       "      <td>16672.920304</td>\n",
       "    </tr>\n",
       "    <tr>\n",
       "      <th>max</th>\n",
       "      <td>0.536046</td>\n",
       "      <td>49793.758211</td>\n",
       "    </tr>\n",
       "  </tbody>\n",
       "</table>\n",
       "</div>"
      ],
      "text/plain": [
       "            grmar5       profits\n",
       "count  4244.000000   4244.000000\n",
       "mean      0.124557  11193.136773\n",
       "std       0.135536  12187.814216\n",
       "min       0.007700    650.883921\n",
       "25%       0.022242   1993.376433\n",
       "50%       0.064246   5790.057805\n",
       "75%       0.185577  16672.920304\n",
       "max       0.536046  49793.758211"
      ]
     },
     "execution_count": 80,
     "metadata": {},
     "output_type": "execute_result"
    }
   ],
   "source": [
    "grmar5_results_df.describe()"
   ]
  },
  {
   "cell_type": "code",
   "execution_count": 81,
   "metadata": {},
   "outputs": [
    {
     "data": {
      "text/plain": [
       "<AxesSubplot:title={'center':'GRMAR distribution'}, ylabel='Frequency'>"
      ]
     },
     "execution_count": 81,
     "metadata": {},
     "output_type": "execute_result"
    },
    {
     "data": {
      "image/png": "[encoded data removed]",
      "text/plain": [
       "<Figure size 432x288 with 1 Axes>"
      ]
     },
     "metadata": {
      "needs_background": "light"
     },
     "output_type": "display_data"
    }
   ],
   "source": [
    "grmar5_results_df['grmar5'].plot(kind='hist',title='GRMAR distribution')"
   ]
  },
  {
   "cell_type": "code",
   "execution_count": 83,
   "metadata": {},
   "outputs": [
    {
     "data": {
      "text/plain": [
       "<AxesSubplot:title={'center':'Price distribution'}, ylabel='Frequency'>"
      ]
     },
     "execution_count": 83,
     "metadata": {},
     "output_type": "execute_result"
    },
    {
     "data": {
      "image/png": "[encoded data removed]",
      "text/plain": [
       "<Figure size 432x288 with 1 Axes>"
      ]
     },
     "metadata": {
      "needs_background": "light"
     },
     "output_type": "display_data"
    }
   ],
   "source": [
    "price5_results_df['log_grmar5']=np.log(grmar5_results_df.loc[:,'grmar5'])\n",
    "price5_results_df['log_grmar5'].plot(kind='hist',title='Price distribution')"
   ]
  }
 ],
 "metadata": {
  "kernelspec": {
   "display_name": "Python 3",
   "language": "python",
   "name": "python3"
  },
  "language_info": {
   "codemirror_mode": {
    "name": "ipython",
    "version": 3
   },
   "file_extension": ".py",
   "mimetype": "text/x-python",
   "name": "python",
   "nbconvert_exporter": "python",
   "pygments_lexer": "ipython3",
   "version": "3.8.3"
  },
  "toc": {
   "base_numbering": 1,
   "nav_menu": {},
   "number_sections": true,
   "sideBar": true,
   "skip_h1_title": false,
   "title_cell": "Table of Contents",
   "title_sidebar": "Contents",
   "toc_cell": false,
   "toc_position": {},
   "toc_section_display": true,
   "toc_window_display": false
  },
  "varInspector": {
   "cols": {
    "lenName": 16,
    "lenType": 16,
    "lenVar": 40
   },
   "kernels_config": {
    "python": {
     "delete_cmd_postfix": "",
     "delete_cmd_prefix": "del ",
     "library": "var_list.py",
     "varRefreshCmd": "print(var_dic_list())"
    },
    "r": {
     "delete_cmd_postfix": ") ",
     "delete_cmd_prefix": "rm(",
     "library": "var_list.r",
     "varRefreshCmd": "cat(var_dic_list()) "
    }
   },
   "types_to_exclude": [
    "module",
    "function",
    "builtin_function_or_method",
    "instance",
    "_Feature"
   ],
   "window_display": false
  }
 },
 "nbformat": 4,
 "nbformat_minor": 4
}
